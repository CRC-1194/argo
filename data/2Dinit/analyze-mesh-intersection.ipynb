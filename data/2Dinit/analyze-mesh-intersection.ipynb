{
 "cells": [
  {
   "cell_type": "code",
   "execution_count": 1,
   "metadata": {
    "scrolled": true
   },
   "outputs": [
    {
     "data": {
      "image/png": "[encoded data removed]",
      "text/plain": [
       "<matplotlib.figure.Figure at 0x7f84c10f6780>"
      ]
     },
     "metadata": {},
     "output_type": "display_data"
    }
   ],
   "source": [
    "%matplotlib inline\n",
    "#import matplotlib \n",
    "#matplotlib.use('Agg')\n",
    "import os\n",
    "import pandas as pd\n",
    "from math import sqrt, log \n",
    "from functools import reduce\n",
    "import numpy as np\n",
    "\n",
    "# Needed on the cluster.\n",
    "# matplotlib.use('Agg')\n",
    "import matplotlib.pyplot as plt \n",
    "from matplotlib import rcParams\n",
    "\n",
    "columnFormats = {\n",
    "    \"Ev\" : '{:,.2e}'.format,\n",
    "    \"Ax\" : '{:,.2f}'.format,\n",
    "    \"Nx\" : '{:,.1f}'.format,\n",
    "    \"Te\" : '{:,.2e}'.format,\n",
    "    \"Tr\" : '{:,.2e}'.format\n",
    "}\n",
    "\n",
    "rcParams[\"text.usetex\"] = True\n",
    "rcParams[\"figure.figsize\"] = (2.5, 2.5) \n",
    "rcParams[\"font.size\"] = 8 \n",
    "\n",
    "def intersection_dirs(intersectionType):\n",
    "    \"\"\"Return the list of OpenFOAM parameter study directory names for an intesection type.\"\"\"\n",
    "    return [x for x in os.listdir(os.curdir) if os.path.isdir(x) \n",
    "         and intersectionType in x and \"00\" in x] \n",
    "\n",
    "def agglomerate_data(intersectionType):\n",
    "    \"\"\"Agglomerates all the data frames from a parameter study into a single dataframe.\"\"\"\n",
    "    dirs = intersection_dirs(intersectionType)\n",
    "    dirs.sort()\n",
    "    \n",
    "    # Assumes the same number of iterations in the experiment: the index of every\n",
    "    # CSV file should therefore have the same length.\n",
    "    csvFileName = os.path.join(os.curdir, dirs[0], intersectionType + '.csv')\n",
    "    csvDf = pd.read_csv(csvFileName)\n",
    "    iterationList = list(csvDf.index)\n",
    "    clmns = csvDf.columns\n",
    "    \n",
    "\n",
    "    # Data frames picked up from CSV files stored in simulation directories.\n",
    "    dfs = []\n",
    "    # A list of mesh resolution numbers N, where N^2 is the number of base mesh cells in 2D\n",
    "    # and N^3 is the number of base mesh cells in 3D. Used for indexing specific cases. Nb \n",
    "    # stores the total number of cells used anyway.\n",
    "    resolutionList = []\n",
    "    for directory in dirs:  \n",
    "        csvFileName = os.path.join(os.curdir, directory, intersectionType + '.csv')\n",
    "        csvDf = pd.read_csv(csvFileName)\n",
    "        meshResolutionN = int(sqrt(csvDf[\"Nb\"].iloc[0]))\n",
    "        resolutionList.append(meshResolutionN)\n",
    "        dfs.append(csvDf)\n",
    "        \n",
    "    # Store all data in a df with a multidimensional index \n",
    "    mIndex = pd.MultiIndex.from_product([resolutionList, iterationList], \n",
    "                                        names=['N', 'iteration'])\n",
    "    \n",
    "    agglDf = pd.concat(dfs) \n",
    "    agglDf.index = mIndex\n",
    "    \n",
    "    return agglDf\n",
    "\n",
    "def box_plot_column(columnName, intersectionName, dFrame, xlabel, dim=2):\n",
    "    \"\"\"Plots a box plot of a column in a data frame against the mesh resolution number N.\"\"\"\n",
    "    resolutions = smciDf.index.levels[0]\n",
    "    dfCol= [dFrame.loc[i][columnName] for i in resolutions]\n",
    "    medianprops = dict(linewidth=0.5, color='k')\n",
    "    medianprops = dict(linestyle='-', linewidth=0.5, color='k')\n",
    "    plt.boxplot(dfCol, notch=True, medianprops=medianprops) \n",
    "    plt.xticks(np.arange(1, len(resolutions) + 1), \n",
    "               [\"$2^{%d}$\" % (int(log(i,2)) * dim)  for i in resolutions])\n",
    "    columnNameList = list(columnName)\n",
    "    plt.xlabel(xlabel)\n",
    "    plt.ylabel(\"$%s_%s$\" % (columnNameList[0], columnNameList[1]))\n",
    "    plt.title(\"%s \" % intersectionName) \n",
    "    pdfName = \"%s%s.pdf\" % (intersectionName, columnName)\n",
    "    plt.savefig(pdfName)\n",
    "    plt.savefig(os.path.join(os.environ[\"INIT_FIG_PATH\"], pdfName), bbox_inches='tight') \n",
    "    \n",
    "\n",
    "smciDf = agglomerate_data('smci')\n",
    "ccmiDf = agglomerate_data('ccmi')\n",
    "\n",
    "resolutionLabel = \"$N_b$ number of bulk mesh cells.\"\n",
    "box_plot_column(\"Ev\", \"SMCI\", smciDf, xlabel=resolutionLabel)\n",
    "\n"
   ]
  },
  {
   "cell_type": "code",
   "execution_count": 2,
   "metadata": {},
   "outputs": [
    {
     "ename": "KeyError",
     "evalue": "'the label [2048] is not in the [index]'",
     "output_type": "error",
     "traceback": [
      "\u001b[0;31m---------------------------------------------------------------------------\u001b[0m",
      "\u001b[0;31mKeyError\u001b[0m                                  Traceback (most recent call last)",
      "\u001b[0;32m/usr/lib/python3.6/site-packages/pandas/core/indexing.py\u001b[0m in \u001b[0;36m_has_valid_type\u001b[0;34m(self, key, axis)\u001b[0m\n\u001b[1;32m   1505\u001b[0m                 \u001b[0;32mif\u001b[0m \u001b[0;32mnot\u001b[0m \u001b[0max\u001b[0m\u001b[0;34m.\u001b[0m\u001b[0mcontains\u001b[0m\u001b[0;34m(\u001b[0m\u001b[0mkey\u001b[0m\u001b[0;34m)\u001b[0m\u001b[0;34m:\u001b[0m\u001b[0;34m\u001b[0m\u001b[0m\n\u001b[0;32m-> 1506\u001b[0;31m                     \u001b[0merror\u001b[0m\u001b[0;34m(\u001b[0m\u001b[0;34m)\u001b[0m\u001b[0;34m\u001b[0m\u001b[0m\n\u001b[0m\u001b[1;32m   1507\u001b[0m             \u001b[0;32mexcept\u001b[0m \u001b[0mTypeError\u001b[0m \u001b[0;32mas\u001b[0m \u001b[0me\u001b[0m\u001b[0;34m:\u001b[0m\u001b[0;34m\u001b[0m\u001b[0m\n",
      "\u001b[0;32m/usr/lib/python3.6/site-packages/pandas/core/indexing.py\u001b[0m in \u001b[0;36merror\u001b[0;34m()\u001b[0m\n\u001b[1;32m   1500\u001b[0m                                .format(key=key,\n\u001b[0;32m-> 1501\u001b[0;31m                                        axis=self.obj._get_axis_name(axis)))\n\u001b[0m\u001b[1;32m   1502\u001b[0m \u001b[0;34m\u001b[0m\u001b[0m\n",
      "\u001b[0;31mKeyError\u001b[0m: 'the label [2048] is not in the [index]'",
      "\nDuring handling of the above exception, another exception occurred:\n",
      "\u001b[0;31mKeyError\u001b[0m                                  Traceback (most recent call last)",
      "\u001b[0;32m<ipython-input-2-a90f81101810>\u001b[0m in \u001b[0;36m<module>\u001b[0;34m()\u001b[0m\n\u001b[0;32m----> 1\u001b[0;31m \u001b[0mbox_plot_column\u001b[0m\u001b[0;34m(\u001b[0m\u001b[0;34m\"Ev\"\u001b[0m\u001b[0;34m,\u001b[0m \u001b[0;34m\"CCMI\"\u001b[0m\u001b[0;34m,\u001b[0m \u001b[0mccmiDf\u001b[0m\u001b[0;34m,\u001b[0m \u001b[0mxlabel\u001b[0m\u001b[0;34m=\u001b[0m\u001b[0mresolutionLabel\u001b[0m\u001b[0;34m)\u001b[0m\u001b[0;34m\u001b[0m\u001b[0m\n\u001b[0m",
      "\u001b[0;32m<ipython-input-1-700838d39493>\u001b[0m in \u001b[0;36mbox_plot_column\u001b[0;34m(columnName, intersectionName, dFrame, xlabel, dim)\u001b[0m\n\u001b[1;32m     68\u001b[0m     \u001b[0;34m\"\"\"Plots a box plot of a column in a data frame against the mesh resolution number N.\"\"\"\u001b[0m\u001b[0;34m\u001b[0m\u001b[0m\n\u001b[1;32m     69\u001b[0m     \u001b[0mresolutions\u001b[0m \u001b[0;34m=\u001b[0m \u001b[0msmciDf\u001b[0m\u001b[0;34m.\u001b[0m\u001b[0mindex\u001b[0m\u001b[0;34m.\u001b[0m\u001b[0mlevels\u001b[0m\u001b[0;34m[\u001b[0m\u001b[0;36m0\u001b[0m\u001b[0;34m]\u001b[0m\u001b[0;34m\u001b[0m\u001b[0m\n\u001b[0;32m---> 70\u001b[0;31m     \u001b[0mdfCol\u001b[0m\u001b[0;34m=\u001b[0m \u001b[0;34m[\u001b[0m\u001b[0mdFrame\u001b[0m\u001b[0;34m.\u001b[0m\u001b[0mloc\u001b[0m\u001b[0;34m[\u001b[0m\u001b[0mi\u001b[0m\u001b[0;34m]\u001b[0m\u001b[0;34m[\u001b[0m\u001b[0mcolumnName\u001b[0m\u001b[0;34m]\u001b[0m \u001b[0;32mfor\u001b[0m \u001b[0mi\u001b[0m \u001b[0;32min\u001b[0m \u001b[0mresolutions\u001b[0m\u001b[0;34m]\u001b[0m\u001b[0;34m\u001b[0m\u001b[0m\n\u001b[0m\u001b[1;32m     71\u001b[0m     \u001b[0mmedianprops\u001b[0m \u001b[0;34m=\u001b[0m \u001b[0mdict\u001b[0m\u001b[0;34m(\u001b[0m\u001b[0mlinewidth\u001b[0m\u001b[0;34m=\u001b[0m\u001b[0;36m0.5\u001b[0m\u001b[0;34m,\u001b[0m \u001b[0mcolor\u001b[0m\u001b[0;34m=\u001b[0m\u001b[0;34m'k'\u001b[0m\u001b[0;34m)\u001b[0m\u001b[0;34m\u001b[0m\u001b[0m\n\u001b[1;32m     72\u001b[0m     \u001b[0mmedianprops\u001b[0m \u001b[0;34m=\u001b[0m \u001b[0mdict\u001b[0m\u001b[0;34m(\u001b[0m\u001b[0mlinestyle\u001b[0m\u001b[0;34m=\u001b[0m\u001b[0;34m'-'\u001b[0m\u001b[0;34m,\u001b[0m \u001b[0mlinewidth\u001b[0m\u001b[0;34m=\u001b[0m\u001b[0;36m0.5\u001b[0m\u001b[0;34m,\u001b[0m \u001b[0mcolor\u001b[0m\u001b[0;34m=\u001b[0m\u001b[0;34m'k'\u001b[0m\u001b[0;34m)\u001b[0m\u001b[0;34m\u001b[0m\u001b[0m\n",
      "\u001b[0;32m<ipython-input-1-700838d39493>\u001b[0m in \u001b[0;36m<listcomp>\u001b[0;34m(.0)\u001b[0m\n\u001b[1;32m     68\u001b[0m     \u001b[0;34m\"\"\"Plots a box plot of a column in a data frame against the mesh resolution number N.\"\"\"\u001b[0m\u001b[0;34m\u001b[0m\u001b[0m\n\u001b[1;32m     69\u001b[0m     \u001b[0mresolutions\u001b[0m \u001b[0;34m=\u001b[0m \u001b[0msmciDf\u001b[0m\u001b[0;34m.\u001b[0m\u001b[0mindex\u001b[0m\u001b[0;34m.\u001b[0m\u001b[0mlevels\u001b[0m\u001b[0;34m[\u001b[0m\u001b[0;36m0\u001b[0m\u001b[0;34m]\u001b[0m\u001b[0;34m\u001b[0m\u001b[0m\n\u001b[0;32m---> 70\u001b[0;31m     \u001b[0mdfCol\u001b[0m\u001b[0;34m=\u001b[0m \u001b[0;34m[\u001b[0m\u001b[0mdFrame\u001b[0m\u001b[0;34m.\u001b[0m\u001b[0mloc\u001b[0m\u001b[0;34m[\u001b[0m\u001b[0mi\u001b[0m\u001b[0;34m]\u001b[0m\u001b[0;34m[\u001b[0m\u001b[0mcolumnName\u001b[0m\u001b[0;34m]\u001b[0m \u001b[0;32mfor\u001b[0m \u001b[0mi\u001b[0m \u001b[0;32min\u001b[0m \u001b[0mresolutions\u001b[0m\u001b[0;34m]\u001b[0m\u001b[0;34m\u001b[0m\u001b[0m\n\u001b[0m\u001b[1;32m     71\u001b[0m     \u001b[0mmedianprops\u001b[0m \u001b[0;34m=\u001b[0m \u001b[0mdict\u001b[0m\u001b[0;34m(\u001b[0m\u001b[0mlinewidth\u001b[0m\u001b[0;34m=\u001b[0m\u001b[0;36m0.5\u001b[0m\u001b[0;34m,\u001b[0m \u001b[0mcolor\u001b[0m\u001b[0;34m=\u001b[0m\u001b[0;34m'k'\u001b[0m\u001b[0;34m)\u001b[0m\u001b[0;34m\u001b[0m\u001b[0m\n\u001b[1;32m     72\u001b[0m     \u001b[0mmedianprops\u001b[0m \u001b[0;34m=\u001b[0m \u001b[0mdict\u001b[0m\u001b[0;34m(\u001b[0m\u001b[0mlinestyle\u001b[0m\u001b[0;34m=\u001b[0m\u001b[0;34m'-'\u001b[0m\u001b[0;34m,\u001b[0m \u001b[0mlinewidth\u001b[0m\u001b[0;34m=\u001b[0m\u001b[0;36m0.5\u001b[0m\u001b[0;34m,\u001b[0m \u001b[0mcolor\u001b[0m\u001b[0;34m=\u001b[0m\u001b[0;34m'k'\u001b[0m\u001b[0;34m)\u001b[0m\u001b[0;34m\u001b[0m\u001b[0m\n",
      "\u001b[0;32m/usr/lib/python3.6/site-packages/pandas/core/indexing.py\u001b[0m in \u001b[0;36m__getitem__\u001b[0;34m(self, key)\u001b[0m\n\u001b[1;32m   1371\u001b[0m \u001b[0;34m\u001b[0m\u001b[0m\n\u001b[1;32m   1372\u001b[0m             \u001b[0mmaybe_callable\u001b[0m \u001b[0;34m=\u001b[0m \u001b[0mcom\u001b[0m\u001b[0;34m.\u001b[0m\u001b[0m_apply_if_callable\u001b[0m\u001b[0;34m(\u001b[0m\u001b[0mkey\u001b[0m\u001b[0;34m,\u001b[0m \u001b[0mself\u001b[0m\u001b[0;34m.\u001b[0m\u001b[0mobj\u001b[0m\u001b[0;34m)\u001b[0m\u001b[0;34m\u001b[0m\u001b[0m\n\u001b[0;32m-> 1373\u001b[0;31m             \u001b[0;32mreturn\u001b[0m \u001b[0mself\u001b[0m\u001b[0;34m.\u001b[0m\u001b[0m_getitem_axis\u001b[0m\u001b[0;34m(\u001b[0m\u001b[0mmaybe_callable\u001b[0m\u001b[0;34m,\u001b[0m \u001b[0maxis\u001b[0m\u001b[0;34m=\u001b[0m\u001b[0maxis\u001b[0m\u001b[0;34m)\u001b[0m\u001b[0;34m\u001b[0m\u001b[0m\n\u001b[0m\u001b[1;32m   1374\u001b[0m \u001b[0;34m\u001b[0m\u001b[0m\n\u001b[1;32m   1375\u001b[0m     \u001b[0;32mdef\u001b[0m \u001b[0m_is_scalar_access\u001b[0m\u001b[0;34m(\u001b[0m\u001b[0mself\u001b[0m\u001b[0;34m,\u001b[0m \u001b[0mkey\u001b[0m\u001b[0;34m)\u001b[0m\u001b[0;34m:\u001b[0m\u001b[0;34m\u001b[0m\u001b[0m\n",
      "\u001b[0;32m/usr/lib/python3.6/site-packages/pandas/core/indexing.py\u001b[0m in \u001b[0;36m_getitem_axis\u001b[0;34m(self, key, axis)\u001b[0m\n\u001b[1;32m   1624\u001b[0m \u001b[0;34m\u001b[0m\u001b[0m\n\u001b[1;32m   1625\u001b[0m         \u001b[0;31m# fall thru to straight lookup\u001b[0m\u001b[0;34m\u001b[0m\u001b[0;34m\u001b[0m\u001b[0m\n\u001b[0;32m-> 1626\u001b[0;31m         \u001b[0mself\u001b[0m\u001b[0;34m.\u001b[0m\u001b[0m_has_valid_type\u001b[0m\u001b[0;34m(\u001b[0m\u001b[0mkey\u001b[0m\u001b[0;34m,\u001b[0m \u001b[0maxis\u001b[0m\u001b[0;34m)\u001b[0m\u001b[0;34m\u001b[0m\u001b[0m\n\u001b[0m\u001b[1;32m   1627\u001b[0m         \u001b[0;32mreturn\u001b[0m \u001b[0mself\u001b[0m\u001b[0;34m.\u001b[0m\u001b[0m_get_label\u001b[0m\u001b[0;34m(\u001b[0m\u001b[0mkey\u001b[0m\u001b[0;34m,\u001b[0m \u001b[0maxis\u001b[0m\u001b[0;34m=\u001b[0m\u001b[0maxis\u001b[0m\u001b[0;34m)\u001b[0m\u001b[0;34m\u001b[0m\u001b[0m\n\u001b[1;32m   1628\u001b[0m \u001b[0;34m\u001b[0m\u001b[0m\n",
      "\u001b[0;32m/usr/lib/python3.6/site-packages/pandas/core/indexing.py\u001b[0m in \u001b[0;36m_has_valid_type\u001b[0;34m(self, key, axis)\u001b[0m\n\u001b[1;32m   1512\u001b[0m                 \u001b[0;32mraise\u001b[0m\u001b[0;34m\u001b[0m\u001b[0m\n\u001b[1;32m   1513\u001b[0m             \u001b[0;32mexcept\u001b[0m\u001b[0;34m:\u001b[0m\u001b[0;34m\u001b[0m\u001b[0m\n\u001b[0;32m-> 1514\u001b[0;31m                 \u001b[0merror\u001b[0m\u001b[0;34m(\u001b[0m\u001b[0;34m)\u001b[0m\u001b[0;34m\u001b[0m\u001b[0m\n\u001b[0m\u001b[1;32m   1515\u001b[0m \u001b[0;34m\u001b[0m\u001b[0m\n\u001b[1;32m   1516\u001b[0m         \u001b[0;32mreturn\u001b[0m \u001b[0;32mTrue\u001b[0m\u001b[0;34m\u001b[0m\u001b[0m\n",
      "\u001b[0;32m/usr/lib/python3.6/site-packages/pandas/core/indexing.py\u001b[0m in \u001b[0;36merror\u001b[0;34m()\u001b[0m\n\u001b[1;32m   1499\u001b[0m                 raise KeyError(u\"the label [{key}] is not in the [{axis}]\"\n\u001b[1;32m   1500\u001b[0m                                .format(key=key,\n\u001b[0;32m-> 1501\u001b[0;31m                                        axis=self.obj._get_axis_name(axis)))\n\u001b[0m\u001b[1;32m   1502\u001b[0m \u001b[0;34m\u001b[0m\u001b[0m\n\u001b[1;32m   1503\u001b[0m             \u001b[0;32mtry\u001b[0m\u001b[0;34m:\u001b[0m\u001b[0;34m\u001b[0m\u001b[0m\n",
      "\u001b[0;31mKeyError\u001b[0m: 'the label [2048] is not in the [index]'"
     ]
    }
   ],
   "source": [
    "box_plot_column(\"Ev\", \"CCMI\", ccmiDf, xlabel=resolutionLabel)\n"
   ]
  },
  {
   "cell_type": "code",
   "execution_count": null,
   "metadata": {},
   "outputs": [],
   "source": [
    "box_plot_column(\"Te\", \"SMCI\", smciDf, xlabel=resolutionLabel)"
   ]
  },
  {
   "cell_type": "code",
   "execution_count": null,
   "metadata": {},
   "outputs": [],
   "source": [
    "box_plot_column(\"Te\", \"CCMI\", ccmiDf, xlabel=resolutionLabel)"
   ]
  },
  {
   "cell_type": "code",
   "execution_count": null,
   "metadata": {
    "collapsed": true
   },
   "outputs": [],
   "source": [
    "## Tabular data representation, loop over resolutions and average the dframe.\n",
    "def int_form(x):\n",
    "    return \"%d\" % round(x,1)\n",
    "\n",
    "def sci_form(x):\n",
    "    return \"%.2e\" % x\n",
    "\n",
    "def float_form(x):\n",
    "    return \"%.2f\" % x\n",
    "\n",
    "def fig_pathname(filename):\n",
    "    return os.path.join(os.environ[\"INIT_FIG_PATH\"], filename)\n",
    "\n",
    "def tab_pathname(filename):\n",
    "    return os.path.join(os.environ[\"INIT_TAB_PATH\"], filename)\n",
    "\n",
    "def mean_df(df, formatters):\n",
    "    \n",
    "    meanSeries = []\n",
    "    resolutions = df.index.levels[0]\n",
    "    for resolution in resolutions: \n",
    "        meanSeries.append(df.loc[resolution].mean())\n",
    "    \n",
    "    meanDf = pd.DataFrame(meanSeries, index=resolutions)\n",
    "\n",
    "    return meanDf\n",
    "\n",
    "smci_formatters =[int_form, int_form, sci_form, sci_form, sci_form, \n",
    "                  sci_form, int_form, int_form, int_form, int_form]\n",
    "\n",
    "smciMeanDf = mean_df(smciDf, smci_formatters)\n",
    "\n",
    "smciMeanDf.to_latex(buf=tab_pathname(\"SMCImean.tex\"),\n",
    "                    formatters=smci_formatters)\n"
   ]
  },
  {
   "cell_type": "code",
   "execution_count": null,
   "metadata": {},
   "outputs": [],
   "source": [
    "smciCorr = smciMeanDf.corr()\n",
    "smciCorr[\"Te\"].sort_values(ascending=False)"
   ]
  },
  {
   "cell_type": "code",
   "execution_count": null,
   "metadata": {
    "collapsed": true
   },
   "outputs": [],
   "source": [
    "ccmi_formatters =[int_form, int_form, sci_form, sci_form, sci_form, \n",
    "                  int_form, int_form, int_form, int_form, int_form]\n",
    "\n",
    "ccmiMeanDf = mean_df(ccmiDf, ccmi_formatters)\n",
    "\n",
    "ccmiMeanDf.to_latex(buf=tab_pathname(\"CCMImean.tex\"), \n",
    "                    formatters=ccmi_formatters)"
   ]
  },
  {
   "cell_type": "markdown",
   "metadata": {},
   "source": [
    "This plot shows that the both algorithms scale linear with respect to the size of the problem, that has been increased in term of the number of cells of the base mesh $N_b$. Since almost all of the computational time is spent in the intersection operations, this will determine the overall speed of execution. "
   ]
  },
  {
   "cell_type": "code",
   "execution_count": null,
   "metadata": {
    "scrolled": true
   },
   "outputs": [],
   "source": [
    "plt.plot(ccmiMeanDf[\"Nb\"], ccmiMeanDf[\"Te\"], label=\"$T_e$ CCMI\", \n",
    "         marker='o', markersize='4', color='k', ls=\":\", lw=0.5)\n",
    "\n",
    "plt.plot(smciMeanDf[\"Nb\"], smciMeanDf[\"Te\"], label=\"$T_e$ SMCI\", \n",
    "         marker='^', markersize='4', color='k', ls=\"--\", lw=0.5)\n",
    "\n",
    "plt.plot(smciMeanDf[\"Nb\"], smciMeanDf[\"Tx\"], label=\"$T_x$ SMCI\", \n",
    "         marker='x', markersize='4', color='k', ls=\"--\", lw=0.5)\n",
    "\n",
    "locs = [2e05, 3e06, 4e06]\n",
    "labels = [\"$2\\cdot10^5$\", \"$3\\cdot10^6$\", \"$4\\cdot10^6$\"] \n",
    "plt.xticks(locs,labels)\n",
    "\n",
    "plt.xlabel(\"$N_b$ number of base mesh cells.\")\n",
    "plt.ylabel(\"$T_e$ in seconds\")\n",
    "plt.legend()\n",
    "plt.loglog()\n",
    "plt.savefig(fig_pathname(\"TeNbLogLog.pdf\"), bbox_inches=\"tight\")"
   ]
  },
  {
   "cell_type": "code",
   "execution_count": null,
   "metadata": {
    "scrolled": true
   },
   "outputs": [],
   "source": [
    "fig = plt.figure()\n",
    "\n",
    "fig = plt.figure()\n",
    "ax1 = fig.add_subplot(111)\n",
    "ax2 = ax1.twiny()\n",
    "\n",
    "lns1 = ax2.plot(ccmiMeanDf[\"Nx\"], ccmiMeanDf[\"Te\"], label=\"$T_e$ CCMI\", \n",
    "         marker='o', markersize='4', color='k', ls=\":\", lw=0.5)\n",
    "ax2.set_xlabel(\"$Nx$ number of intersections CCMI.\")\n",
    "         \n",
    "lns2 = ax1.plot(smciMeanDf[\"Nx\"], smciMeanDf[\"Te\"], label=\"$T_e$ SMCI\", \n",
    "         marker='^', markersize='4', color='k', ls=\"--\", lw=0.5)\n",
    "lns3 = ax1.plot(smciMeanDf[\"Nx\"], smciMeanDf[\"Tx\"], label=\"$T_x$ SMCI\", \n",
    "         marker='x', markersize='4', color='k', ls=\"--\", lw=0.5)\n",
    "\n",
    "ax1.set_xlabel(\"$Nx$ number of intersections SMCI.\")\n",
    "\n",
    "lns = lns1 + lns2 + lns3\n",
    "\n",
    "labs = [l.get_label() for l in lns]\n",
    "\n",
    "\n",
    "ax1.set_ylabel(\"$T_e$ in seconds\")\n",
    "ax1.legend(lns,labs, loc=\"upper left\")\n",
    "plt.savefig(fig_pathname(\"TeNx.pdf\"), bbox_inches=\"tight\")"
   ]
  },
  {
   "cell_type": "code",
   "execution_count": null,
   "metadata": {},
   "outputs": [],
   "source": [
    "plt.plot(ccmiMeanDf[\"Nb\"], ccmiMeanDf[\"Te\"] / smciMeanDf[\"Te\"],\n",
    "         marker='o', markersize='4', color='k', ls=\":\", lw=0.5)\n",
    "plt.grid()\n",
    "locsy, labelsy = plt.yticks()\n",
    "locs, labels = plt.xticks()\n",
    "#locs = [1e02, 1e04, 1e06, 2e06, 4e06]\n",
    "#labels = [\"%1e\" % i for i in locs if i > 0]\n",
    "plt.xticks(locs,labels)\n",
    "plt.semilogx()\n",
    "plt.xlabel(\"$N_b$ number of base mesh cells.\")\n",
    "plt.ylabel(\"$T_e$ ratio CCMI / SMCI.\")\n",
    "plt.savefig(fig_pathname(\"TeRatioNb.pdf\"), bbox_inches=\"tight\")"
   ]
  },
  {
   "cell_type": "code",
   "execution_count": null,
   "metadata": {},
   "outputs": [],
   "source": [
    "fig = plt.figure()\n",
    "\n",
    "fig = plt.figure()\n",
    "ax1 = fig.add_subplot(111)\n",
    "#ax2 = ax1.twinx()\n",
    "    \n",
    "ax1.plot(ccmiMeanDf[\"Nb\"], ccmiMeanDf[\"Nx\"], label=\"$N_x$ CCMI\", \n",
    "         lw=0.5, marker='o', markersize=4, color='k')\n",
    "ax1.plot(smciMeanDf[\"Nb\"], smciMeanDf[\"Nx\"], label=\"$N_x$ SMCI\", \n",
    "         lw=0.5, marker='^', markersize=4, color='k')\n",
    "ax1.set_xlabel(\"$N_b$ number of base mesh cells.\")\n",
    "ax1.set_ylabel(\"$N_x$ number intersections SMCI.\")\n",
    "#ax1.set_ylabel(\"$N_x$ number intersections CCMI.\")\n",
    "ax1.legend(loc=\"upper center\")\n",
    "#ax2.legend(loc=\"lower right\")\n",
    "plt.savefig(fig_pathname(\"NxNb.pdf\"), bbox_inches=\"tight\")"
   ]
  },
  {
   "cell_type": "code",
   "execution_count": null,
   "metadata": {},
   "outputs": [],
   "source": [
    "fig = plt.figure()\n",
    "\n",
    "fig = plt.figure()\n",
    "ax1 = fig.add_subplot(111)\n",
    "\n",
    "ccmiMeanDfFirst = ccmiMeanDf.head(6)\n",
    "smciMeanDfFirst = smciMeanDf.head(6)\n",
    "\n",
    "ax1.plot(ccmiMeanDfFirst[\"Nb\"], ccmiMeanDfFirst[\"Nx\"], label=\"$N_x$ CCMI\", \n",
    "         lw=0.5, marker='o', markersize=4, color='k')\n",
    "\n",
    "ax1.plot(smciMeanDfFirst[\"Nb\"], smciMeanDfFirst[\"Nx\"], label=\"$N_x$ SMCI\", \n",
    "         lw=0.5, marker='^', markersize=4, color='k')\n",
    "\n",
    "ax1.set_xlabel(\"$N_b$ number of base mesh cells.\")\n",
    "ax1.set_ylabel(\"$N_x$ number intersections SMCI.\")\n",
    "\n",
    "#ax1.set_ylabel(\"$N_x$ number intersections CCMI.\")\n",
    "ax1.legend(loc=\"upper center\")\n",
    "#ax2.legend(loc=\"lower right\")\n",
    "#ax1.semilogy()\n",
    "plt.savefig(fig_pathname(\"NxNb.pdf\"), bbox_inches=\"tight\")"
   ]
  },
  {
   "cell_type": "code",
   "execution_count": null,
   "metadata": {
    "collapsed": true
   },
   "outputs": [],
   "source": []
  }
 ],
 "metadata": {
  "kernelspec": {
   "display_name": "Python 3",
   "language": "python",
   "name": "python3"
  },
  "language_info": {
   "codemirror_mode": {
    "name": "ipython",
    "version": 3
   },
   "file_extension": ".py",
   "mimetype": "text/x-python",
   "name": "python",
   "nbconvert_exporter": "python",
   "pygments_lexer": "ipython3",
   "version": "3.6.4"
  }
 },
 "nbformat": 4,
 "nbformat_minor": 2
}
