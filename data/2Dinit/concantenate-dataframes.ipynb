{
 "cells": [
  {
   "cell_type": "code",
   "execution_count": 48,
   "metadata": {},
   "outputs": [
    {
     "name": "stdout",
     "output_type": "stream",
     "text": [
      "          A         B         C         D\n",
      "1  0.584147  0.746979  1.289558 -1.057299\n",
      "2  0.488252  0.861635 -0.164842  0.020274\n",
      "3  0.347241 -1.488328  0.433251 -0.293819\n",
      "          A         B         C         D\n",
      "1 -0.823592 -1.152259  1.043291 -1.058231\n",
      "2 -0.896064  0.914936  0.653407  1.701812\n",
      "3  0.599443  0.839541 -0.446092 -1.167927\n",
      "          A         B         C         D\n",
      "1  1.212843 -0.239946  0.574732 -1.324963\n",
      "2 -0.256372 -1.678082  1.450028  0.146767\n",
      "3  0.425767  0.849332 -1.532870  0.917787\n"
     ]
    }
   ],
   "source": [
    "import pandas as pd\n",
    "import numpy as np\n",
    "\n",
    "def random_dframe(indx, clmns):\n",
    "  return pd.DataFrame(np.random.randn(len(params[1]), len(names)), index=indx, columns = clmns) \n",
    "     \n",
    "params = [np.array([2** x for x in np.arange(1,4)]), np.arange(1,4)]\n",
    "names = [\"A\", \"B\", \"C\", \"D\"] \n",
    "\n",
    "# There are 3 data frames\n",
    "df1 = random_dframe(params[1], names)\n",
    "df2 = random_dframe(params[1], names)\n",
    "df3 = random_dframe(params[1], names)\n",
    "\n",
    "print (df1)\n",
    "print (df2)\n",
    "print (df3)"
   ]
  },
  {
   "cell_type": "code",
   "execution_count": 51,
   "metadata": {},
   "outputs": [
    {
     "name": "stdout",
     "output_type": "stream",
     "text": [
      "          A         B         C         D\n",
      "1  0.584147  0.746979  1.289558 -1.057299\n",
      "2  0.488252  0.861635 -0.164842  0.020274\n",
      "3  0.347241 -1.488328  0.433251 -0.293819\n",
      "1 -0.823592 -1.152259  1.043291 -1.058231\n",
      "2 -0.896064  0.914936  0.653407  1.701812\n",
      "3  0.599443  0.839541 -0.446092 -1.167927\n",
      "1  1.212843 -0.239946  0.574732 -1.324963\n",
      "2 -0.256372 -1.678082  1.450028  0.146767\n",
      "3  0.425767  0.849332 -1.532870  0.917787\n",
      "                             A         B         C         D\n",
      "resolution iteration                                        \n",
      "2          1          0.584147  0.746979  1.289558 -1.057299\n",
      "           2          0.488252  0.861635 -0.164842  0.020274\n",
      "           3          0.347241 -1.488328  0.433251 -0.293819\n",
      "4          1         -0.823592 -1.152259  1.043291 -1.058231\n",
      "           2         -0.896064  0.914936  0.653407  1.701812\n",
      "           3          0.599443  0.839541 -0.446092 -1.167927\n",
      "8          1          1.212843 -0.239946  0.574732 -1.324963\n",
      "           2         -0.256372 -1.678082  1.450028  0.146767\n",
      "           3          0.425767  0.849332 -1.532870  0.917787\n"
     ]
    }
   ],
   "source": [
    "# Each data frame corresponds to a parameter from params[0]. \n",
    "# All data frames have to be agglomerated into a single multi-index dframe\n",
    "\n",
    "# Create a random dframe with a multiindex based on params \n",
    "# df = pd.DataFrame(np.random.randn(3,4), index=params)\n",
    "\n",
    "agglDf = pd.concat([df1,df2,df3])\n",
    "\n",
    "print(agglDf)\n",
    "\n",
    "agglDf.index = pd.MultiIndex.from_product(params, names=[\"resolution\", \"iteration\"])\n",
    "\n",
    "print(agglDf)"
   ]
  },
  {
   "cell_type": "code",
   "execution_count": null,
   "metadata": {
    "collapsed": true
   },
   "outputs": [],
   "source": []
  }
 ],
 "metadata": {
  "kernelspec": {
   "display_name": "Python 3",
   "language": "python",
   "name": "python3"
  },
  "language_info": {
   "codemirror_mode": {
    "name": "ipython",
    "version": 3
   },
   "file_extension": ".py",
   "mimetype": "text/x-python",
   "name": "python",
   "nbconvert_exporter": "python",
   "pygments_lexer": "ipython3",
   "version": "3.7.4"
  }
 },
 "nbformat": 4,
 "nbformat_minor": 2
}
