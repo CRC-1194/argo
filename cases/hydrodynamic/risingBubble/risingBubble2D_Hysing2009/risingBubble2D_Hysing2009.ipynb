{
 "cells": [
  {
   "cell_type": "code",
   "execution_count": null,
   "id": "1c4374a7",
   "metadata": {
    "scrolled": true
   },
   "outputs": [],
   "source": [
    "import sys\n",
    "#print(sys.path)\n",
    "#sys.path.remove('/work/projects/project01456/lent/cases/scripts/modules')\n",
    "print(sys.path)\n",
    "import dataframeWithMetadata as dfmd\n",
    "import dataAgglomeration as da\n",
    "import os\n",
    "import pandas as pd\n",
    "from matplotlib import pyplot as plt\n",
    "from matplotlib import rcParams\n",
    "rcParams[\"figure.dpi\"] = 400\n",
    "idx = pd.IndexSlice\n"
   ]
  },
  {
   "cell_type": "code",
   "execution_count": null,
   "id": "c42f0c79",
   "metadata": {},
   "outputs": [],
   "source": [
    "def dB_plot(path, num, label):\n",
    "    db =  pd.read_csv('RisingBubbleRefDat/%s.txt'%path, header=None,delim_whitespace=True)\n",
    "    plt.plot(db[0],db[num],'-',ms=3,label=label)\n",
    "    \n",
    "def dB_plot_foam(df, tScheme, divScheme, col, solver):\n",
    "    db =  df.loc[idx[tScheme, divScheme]]\n",
    "    CFLs = db.index.get_level_values(\"CFL_num\").unique()\n",
    "    for CFL in CFLs:\n",
    "        db_sub=db.loc[CFL]\n",
    "        plt.plot(db_sub['time'],db_sub[col],'-.',label='%s, %s, %s, CFL: %s, Resol: 320x160'%(solver,tScheme,divScheme,CFL))"
   ]
  },
  {
   "cell_type": "code",
   "execution_count": null,
   "id": "402891db",
   "metadata": {},
   "outputs": [],
   "source": [
    "agglomerator = da.data_agglomerator(\"./risingBubble2D_Hysing2009.parameter\",\"risingBubbleOutput.csv\", \n",
    "                                     \"./interIsoFoam-risingBubble2D_Hysing2009_00000_templateCase\")\n",
    "agglomerator.show_failed_variations()\n",
    "agglomerator.write_agglomerated_study_data(\"interIsoFoam_Hysing2009.csv\")\n",
    "interIso_df = agglomerator.study_dataframe()\n",
    "interIso_df = interIso_df.sort_index()\n",
    "\n",
    "agglomerator = da.data_agglomerator(\"./risingBubble2D_Hysing2009.parameter\",\"risingBubbleOutput.csv\", \n",
    "                                     \"./interIsoRhoFoam-risingBubble2D_Hysing2009_00000_templateCase\")\n",
    "agglomerator.show_failed_variations()\n",
    "agglomerator.write_agglomerated_study_data(\"interIsoRhoFoam_Hysing2009.csv\")\n",
    "interIsoRho_df = agglomerator.study_dataframe()\n",
    "interIsoRho_df = interIsoRho_df.sort_index()"
   ]
  },
  {
   "cell_type": "code",
   "execution_count": null,
   "id": "48d23a03",
   "metadata": {},
   "outputs": [],
   "source": [
    "\n",
    "dB_plot_foam(interIso_df, 'Euler','upwind','CenterOfMass','interIsoFoam')\n",
    "dB_plot_foam(interIso_df, 'Euler','limitedLinearV1','CenterOfMass','interIsoFoam')\n",
    "dB_plot_foam(interIso_df, 'CrankNicolson0.9','upwind','CenterOfMass','interIsoFoam')\n",
    "dB_plot_foam(interIso_df, 'CrankNicolson0.9','limitedLinearV1','CenterOfMass','interIsoFoam')\n",
    "dB_plot_foam(interIsoRho_df, 'Euler','upwind','CenterOfMass','interIsoRhoFoam')\n",
    "dB_plot_foam(interIsoRho_df, 'Euler','limitedLinearV1','CenterOfMass','interIsoRhoFoam')\n",
    "dB_plot_foam(interIsoRho_df, 'CrankNicolson0.9','upwind','CenterOfMass','interIsoRhoFoam')\n",
    "dB_plot_foam(interIsoRho_df, 'CrankNicolson0.9','limitedLinearV1','CenterOfMass','interIsoRhoFoam')\n",
    "\n",
    "dB_plot('c2g1l8', 3, 'TP2D')\n",
    "dB_plot('c2g2l3', 3, 'FreeLIFE')\n",
    "dB_plot('c2g3l4', 3, 'MooNMD')\n",
    "\n",
    "plt.ylabel(\"Center of Mass\")\n",
    "plt.xlabel(\"Time\")\n",
    "plt.legend(loc='upper center', bbox_to_anchor=(0.5, -0.15))#,frameon=False)\n",
    "plt.xlim(0,3)\n",
    "# plt.ylim(1,6.3)\n",
    "plt.show()"
   ]
  },
  {
   "cell_type": "code",
   "execution_count": null,
   "id": "b477d1b7",
   "metadata": {},
   "outputs": [],
   "source": [
    "\n",
    "dB_plot_foam(interIso_df, 'Euler','upwind','RisingVelocity','interIsoFoam')\n",
    "dB_plot_foam(interIso_df, 'Euler','limitedLinearV1','RisingVelocity','interIsoFoam')\n",
    "dB_plot_foam(interIso_df, 'CrankNicolson0.9','upwind','RisingVelocity','interIsoFoam')\n",
    "dB_plot_foam(interIso_df, 'CrankNicolson0.9','limitedLinearV1','RisingVelocity','interIsoFoam')\n",
    "dB_plot_foam(interIsoRho_df, 'Euler','upwind','RisingVelocity','interIsoRhoFoam')\n",
    "dB_plot_foam(interIsoRho_df, 'Euler','limitedLinearV1','RisingVelocity','interIsoRhoFoam')\n",
    "dB_plot_foam(interIsoRho_df, 'CrankNicolson0.9','upwind','RisingVelocity','interIsoRhoFoam')\n",
    "dB_plot_foam(interIsoRho_df, 'CrankNicolson0.9','limitedLinearV1','RisingVelocity','interIsoRhoFoam')\n",
    "\n",
    "dB_plot('c2g1l8', 4, 'TP2D')\n",
    "dB_plot('c2g2l3', 4, 'FreeLIFE')\n",
    "dB_plot('c2g3l4', 4, 'MooNMD')\n",
    "\n",
    "plt.ylabel(\"Rising velocity\")\n",
    "plt.xlabel(\"Time\")\n",
    "plt.xlim(0,3)\n",
    "plt.legend(loc='upper center', bbox_to_anchor=(0.5, -0.15))#,frameon=False)\n",
    "\n",
    "plt.show()"
   ]
  }
 ],
 "metadata": {
  "kernelspec": {
   "display_name": "Python 3",
   "language": "python",
   "name": "python3"
  },
  "language_info": {
   "codemirror_mode": {
    "name": "ipython",
    "version": 3
   },
   "file_extension": ".py",
   "mimetype": "text/x-python",
   "name": "python",
   "nbconvert_exporter": "python",
   "pygments_lexer": "ipython3",
   "version": "3.9.5"
  }
 },
 "nbformat": 4,
 "nbformat_minor": 5
}
