{
 "cells": [
  {
   "cell_type": "markdown",
   "metadata": {},
   "source": [
    "# Two-phase momentum advection verification: translating inviscid droplet without surface tension \n",
    "\n",
    "![title](translating-droplet-figures/translating-droplet-3D-standalone-1.png)\n",
    "\n",
    "A droplet is translated in a rectangular domain using a spatially constant internal and inlet velocity field. Length dimensions are in meters.\n",
    "\n",
    "### Goal: Ensure the advection of the interface is consistent with the advection of the momentum\n",
    "\n",
    "Advecting the two-phase momentum with a prescribed velocity $\\mathbf{v}$ is modeled as\n",
    "\n",
    "$\\partial_t (\\rho \\mathbf{v}) + \\nabla \\cdot (\\rho\\mathbf{v}\\mathbf{v}) = 0$\n",
    "\n",
    "with $\\mathbf{v} = \\text{const} = \\mathbf{v}_c = \\mathbf{v}_f$ on the boundary and inside the solution domain. If discretized explicitly using Euler temporal discretization $\\mathbf{v}=\\text{const}$ gives \n",
    "\n",
    "$\\mathbf{v}_c^{n+1} = \\frac{\\mathbf{v}_c^n(\\rho_c^n - \\frac{\\Delta t}{|\\Omega_c|}\\sum_{f \\in F_c}\\rho_f^n \\mathbf{v}_f^n\\cdot \\mathbf{S}_f)}{\\rho_c^{n+1}}$\n",
    "\n",
    "Since the passive transport of the droplet without viscous, hydrostatic, and surface tension forces (any forces for that matter) working on it, should not cause the accelleration of the fluid, $\\mathbf{v}_c^{n+1} = \\mathbf{v}_c^{n}$, so \n",
    "\n",
    "$\\rho_c^{n+1} =\\rho_c^n - \\frac{\\Delta t}{|\\Omega_c|}\\sum_{f \\in F_c}\\rho_f^n \\mathbf{v}_f^n\\cdot \\mathbf{S}_f$ \n",
    "\n",
    "**which means the cell-centered densities must be updated using the same face-centered momentum flux $\\rho_f^n \\mathbf{v}_f^n\\cdot \\mathbf{S}_f$ - this is the momentum flux consistency requirement for the conservative formulation of the momentum equation in the single-field Navier-Stokes equations.**\n",
    "\n",
    "**If the numerical method does not satisfy this condition, passive transport of a droplet causes artificial accelerations.**\n",
    "\n",
    "**The accellerations appear as a source-term on the r.h.s. of the pressure equation - that drives $\\nabla_c \\cdot \\mathbf{v}_c^{n+1} = 0$**"
   ]
  },
  {
   "cell_type": "code",
   "execution_count": null,
   "metadata": {},
   "outputs": [],
   "source": [
    "import sys\n",
    "#print(sys.path)\n",
    "#sys.path.remove('/work/projects/project01456/lent/cases/scripts/modules')\n",
    "print(sys.path)\n",
    "import dataframeWithMetadata as dfmd\n",
    "import dataAgglomeration as da\n",
    "import os\n",
    "import pandas as pd\n",
    "from matplotlib import pyplot as plt\n",
    "from matplotlib import rcParams\n",
    "rcParams[\"figure.dpi\"] = 400\n",
    "sys.path.append(os.environ['ARGO_PYTHON_MODULES'])\n",
    "#if (not(os.path.exists('figures'))):\n",
    "#    os.mkdir('figures')\n",
    "\n",
    "idx = pd.IndexSlice\n",
    "    \n",
    "def plot_density_ratio_dframe(dframe, tScheme, divScheme, title):\n",
    "    \"\"\"Plots the temporal evolution of the L-INFINITY velocity error norm for each mesh resolution and density ratio.\"\"\"\n",
    "    \n",
    "    dframe=dframe.loc[idx[tScheme, divScheme]]\n",
    "    resolutions = dframe.index.get_level_values(\"resolution\").unique()\n",
    "    CFLs = dframe.index.get_level_values(\"CFL_num\").unique()\n",
    "    #CFLs=[0.005, 0.01, 0.05, 0.1]\n",
    "   # resolutions = [32]\n",
    "    v = 0.01\n",
    "\n",
    "    for resolution in resolutions:\n",
    "        for CFL in CFLs:\n",
    "            df_subset = dframe.loc[CFL,resolution,:]\n",
    "            plt.plot(df_subset[\"time\"], df_subset[\"Linf velocity error\"] / v, \n",
    "                     label=\"RESOLUTION:%s; CFL:%s\" % (resolution, CFL))\n",
    "    plt.title(title, y= 1.08)\n",
    "    plt.ylabel(r\"$L_{\\infty}(\\frac{\\|\\mathbf{v}_c^e - \\mathbf{v}_c^n\\|}{\\|\\mathbf{v}_c^e\\|})$\")\n",
    "               #\"L_2 velocity error\") \n",
    "               #\"$L_{\\infty}(\\frac{\\|\\mathbf{v}_c^e - \\mathbf{v}_c^n\\|}{\\|\\mathbf{v}_c^e\\|})$\")\n",
    "    plt.xlabel(\"Time in seconds\")\n",
    "    plt.legend(loc='upper center', bbox_to_anchor=(0.5, -0.15),\n",
    "          fancybox=True, shadow=True, ncol=2)"
   ]
  },
  {
   "cell_type": "code",
   "execution_count": null,
   "metadata": {},
   "outputs": [],
   "source": [
    "agglomerator = da.data_agglomerator(\"mercuryAirDropletTranslation.parameter\",\"stationaryDropletResults.csv\", \n",
    "                                     \"./interIsoFoam-mercuryAirDropletTranslation_00000_templateCase\")\n",
    "agglomerator.show_failed_variations()\n",
    "agglomerator.write_agglomerated_study_data(\"interIsoFoam.mercuryAirDropletTranslation.csv\")\n",
    "dframe = agglomerator.study_dataframe()\n",
    "dframe = dframe.sort_index()\n",
    "#dframe = dframe.loc[(dframe.index.get_level_values('CFL_num') <= 0.01) & (dframe.index.get_level_values('resolution') <= 64)]"
   ]
  },
  {
   "cell_type": "code",
   "execution_count": null,
   "metadata": {},
   "outputs": [],
   "source": [
    "plot_density_ratio_dframe(dframe,'Euler','upwind','interIsoFoam')"
   ]
  },
  {
   "cell_type": "code",
   "execution_count": null,
   "metadata": {},
   "outputs": [],
   "source": [
    "plot_density_ratio_dframe(dframe,'Euler','limitedLinearV1','interIsoFoam')"
   ]
  },
  {
   "cell_type": "code",
   "execution_count": null,
   "metadata": {},
   "outputs": [],
   "source": [
    "plot_density_ratio_dframe(dframe,'CrankNicolson0.9','upwind','interIsoFoam')"
   ]
  },
  {
   "cell_type": "code",
   "execution_count": null,
   "metadata": {},
   "outputs": [],
   "source": [
    "plot_density_ratio_dframe(dframe,'CrankNicolson0.9','limitedLinearV1','interIsoFoam')"
   ]
  },
  {
   "cell_type": "code",
   "execution_count": null,
   "metadata": {},
   "outputs": [],
   "source": [
    "agglomerator = da.data_agglomerator(\"mercuryAirDropletTranslation.parameter\",\"stationaryDropletResults.csv\", \n",
    "                                     \"./interIsoRhoFoam-mercuryAirDropletTranslation_00000_templateCase\")\n",
    "agglomerator.show_failed_variations()\n",
    "agglomerator.write_agglomerated_study_data(\"interIsoRhoFoam.mercuryAirDropletTranslation.csv\")\n",
    "dframe = agglomerator.study_dataframe()\n",
    "dframe = dframe.sort_index()\n",
    "#dframe = dframe.loc[(dframe.index.get_level_values('CFL_num') <= 0.01) & (dframe.index.get_level_values('resolution') <= 64)]\n"
   ]
  },
  {
   "cell_type": "code",
   "execution_count": null,
   "metadata": {},
   "outputs": [],
   "source": [
    "plot_density_ratio_dframe(dframe, 'Euler', 'upwind', 'interIsoRhoFoam')"
   ]
  },
  {
   "cell_type": "code",
   "execution_count": null,
   "metadata": {},
   "outputs": [],
   "source": [
    "plot_density_ratio_dframe(dframe, 'Euler','limitedLinearV1','interIsoRhoFoam')"
   ]
  },
  {
   "cell_type": "code",
   "execution_count": null,
   "metadata": {},
   "outputs": [],
   "source": [
    "plot_density_ratio_dframe(dframe, 'CrankNicolson0.9', 'upwind', 'interIsoRhoFoam')"
   ]
  },
  {
   "cell_type": "code",
   "execution_count": null,
   "metadata": {},
   "outputs": [],
   "source": [
    "plot_density_ratio_dframe(dframe, 'CrankNicolson0.9','limitedLinearV1','interIsoRhoFoam')"
   ]
  },
  {
   "cell_type": "code",
   "execution_count": null,
   "metadata": {},
   "outputs": [],
   "source": []
  }
 ],
 "metadata": {
  "kernelspec": {
   "display_name": "Python 3",
   "language": "python",
   "name": "python3"
  },
  "language_info": {
   "codemirror_mode": {
    "name": "ipython",
    "version": 3
   },
   "file_extension": ".py",
   "mimetype": "text/x-python",
   "name": "python",
   "nbconvert_exporter": "python",
   "pygments_lexer": "ipython3",
   "version": "3.9.5"
  }
 },
 "nbformat": 4,
 "nbformat_minor": 4
}
