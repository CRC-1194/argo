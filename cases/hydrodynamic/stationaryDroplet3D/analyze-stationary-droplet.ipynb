{
 "cells": [
  {
   "cell_type": "code",
   "execution_count": null,
   "metadata": {},
   "outputs": [],
   "source": [
    "import pandas as pd\n",
    "import os \n",
    "import matplotlib.pyplot as plt\n",
    "from matplotlib import rcParams\n",
    "import re\n",
    "\n",
    "rcParams[\"figure.dpi\"] = 300\n",
    "rcParams[\"text.usetex\"] = True"
   ]
  },
  {
   "cell_type": "code",
   "execution_count": null,
   "metadata": {},
   "outputs": [],
   "source": [
    "file_name = \"INPUT_NAME.json\"\n",
    "\n",
    "dframe = pd.read_json(file_name, orient='table')\n",
    "idx = pd.IndexSlice\n",
    "\n",
    "\n",
    "n_cells_list = dframe.index.get_level_values(\"N_CELLS\").unique()\n",
    "for n_cells in n_cells_list:\n",
    "    dframe_slice = dframe.loc[idx[:, :, :, :, :, :, :, n_cells, :]]\n",
    "    plt.plot(dframe_slice[\"Time\"], dframe_slice[\"max\"], '.', label=\"%s\" % n_cells)\n",
    "    label_x = dframe_slice[\"Time\"].iloc[-1]\n",
    "    label_y = dframe_slice[\"max\"].iloc[-1]\n",
    "    plt.annotate(\"N\\_CELLS %s\" % n_cells, (label_x,label_y))\n",
    "    \n",
    "plt.semilogy()\n",
    "plt.legend()\n",
    "plt.savefig(file_name.split('.')[0] + \".pdf\", bbox_inches='tight')\n",
    "plt.savefig(file_name.split('.')[0] + \".png\", bbox_inches='tight')"
   ]
  }
 ],
 "metadata": {
  "kernelspec": {
   "display_name": "Python 3",
   "language": "python",
   "name": "python3"
  },
  "language_info": {
   "codemirror_mode": {
    "name": "ipython",
    "version": 3
   },
   "file_extension": ".py",
   "mimetype": "text/x-python",
   "name": "python",
   "nbconvert_exporter": "python",
   "pygments_lexer": "ipython3",
   "version": "3.8.10"
  }
 },
 "nbformat": 4,
 "nbformat_minor": 4
}
