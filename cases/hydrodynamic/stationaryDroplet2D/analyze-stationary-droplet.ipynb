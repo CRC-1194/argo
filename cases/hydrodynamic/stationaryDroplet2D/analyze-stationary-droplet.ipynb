{
 "cells": [
  {
   "cell_type": "code",
   "execution_count": null,
   "metadata": {},
   "outputs": [],
   "source": [
    "import pandas as pd\n",
    "import os \n",
    "import matplotlib.pyplot as plt\n",
    "from matplotlib import rcParams\n",
    "\n",
    "rcParams[\"figure.dpi\"] = 300\n",
    "rcParams[\"text.usetex\"] = True\n",
    "\n",
    "solvers = [\"interIsoPandoraFoam\", \"interIsoFoam\"]\n",
    "solver_dat_files = []\n",
    "\n",
    "for solver_name in solvers:\n",
    "    dirs = [param_dir for param_dir in os.listdir(os.curdir) if (\"_00\" in param_dir and solver_name in param_dir)]\n",
    "    files = [os.path.join(param_dir,\"postProcessing/minMaxU/0/fieldMinMax.dat\") for param_dir in dirs]\n",
    "    files.sort()\n",
    "    solver_dat_files.append(files)\n",
    "    \n",
    "for solver, dat_files in zip(solvers, solver_dat_files):\n",
    "    fig, ax = plt.subplots()\n",
    "    for dat_file in dat_files:\n",
    "        dFrame = pd.read_table(dat_file, header=1)\n",
    "        dFrame.columns = [column.rstrip(' ') for column in dFrame.columns]\n",
    "        dFrame.columns = [\"Time\"] + list(dFrame.columns[1:])\n",
    "        name = dat_file.split('/')[0].split('_')[1]\n",
    "        ax.plot(dFrame[\"Time\"], dFrame[\"max\"], label=\": variation %s\" % name)\n",
    "    \n",
    "    ax.semilogy()\n",
    "    ax.legend()\n",
    "    ax.grid()\n",
    "    ax.set_ylabel(\"$L_\\infty(\\mathbf{v_c})$ in m/s\")\n",
    "    ax.set_xlabel(\"Time in s\")\n",
    "    ax.set_title(solver)\n",
    "    fig.savefig(solver+\".pdf\",bbox_inches='tight')"
   ]
  },
  {
   "cell_type": "code",
   "execution_count": null,
   "metadata": {},
   "outputs": [],
   "source": []
  }
 ],
 "metadata": {
  "kernelspec": {
   "display_name": "Python 3",
   "language": "python",
   "name": "python3"
  },
  "language_info": {
   "codemirror_mode": {
    "name": "ipython",
    "version": 3
   },
   "file_extension": ".py",
   "mimetype": "text/x-python",
   "name": "python",
   "nbconvert_exporter": "python",
   "pygments_lexer": "ipython3",
   "version": "3.9.0"
  }
 },
 "nbformat": 4,
 "nbformat_minor": 4
}
