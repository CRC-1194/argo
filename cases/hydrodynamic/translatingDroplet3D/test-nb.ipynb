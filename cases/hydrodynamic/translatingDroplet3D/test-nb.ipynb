{
 "cells": [
  {
   "cell_type": "markdown",
   "metadata": {},
   "source": [
    "# Translating droplet verification case\n",
    "\n",
    "\n",
    "![title](notebook-data/translating-droplet-3D-standalone-1.png)\n",
    "\n",
    "A droplet is translated in a rectangular domain using a spatially constant internal and inlet velocity field. \n",
    "\n",
    "## Tests \n",
    "\n",
    "### 1 Translating droplet with varying density ratios without viscosity and surface tension \n",
    "\n",
    "#### Goal: Ensure the advection of the interface is consistent with the advection of the momentum\n",
    "\n",
    "$\\nabla \\cdot(\\rho \\mathbf{v} \\mathbf{v})$. To ensure this, the density in the new time step $\\rho^{n+1}$ must be updated using the same flux $\\rho_f^k \\mathbf{v}_f^k \\cdot \\mathbf{S}_f$ that is used in the convective term of the momentum equation. See literature on multiphase momentum transport for varying density ratios. For this test case, viscosity and surface tension are set to $0$. \n",
    "\n",
    "In  other words, there should be no change in the mixture velocity if the mass flux in the momentum equation is also used to update the mixture density and of course the pressure stays the same $p=0$. \n",
    "\n",
    "### 2 Translating droplet with varying density ratios \n",
    "\n",
    "#### Ensure the forces are balanced on the interface for an interface that moves in the simplest way - by translation\n",
    "\n",
    "This is tested in the case where kinematic viscosity is $\\nu \\ne 0$ and the surface tension force $\\mathbf{f}_\\sigma \\ne \\mathbf{0}$."
   ]
  },
  {
   "cell_type": "markdown",
   "metadata": {},
   "source": [
    "# 1 Translating droplet with varying density ratios without viscosity and surface tension "
   ]
  },
  {
   "cell_type": "code",
   "execution_count": null,
   "metadata": {},
   "outputs": [],
   "source": [
    "#import notebookPlotting \n",
    "import pandas as pd\n",
    "import dataAgglomeration as datglom \n",
    "import matplotlib.pyplot as plt\n",
    "from matplotlib import rcParams\n",
    "import os\n",
    "import sys\n",
    "sys.path.append(os.environ['ARGO_PYTHON_MODULES'])\n",
    "from nbplt_Trans_output import plot_dframe\n",
    "\n",
    "import os\n",
    "if (not(os.path.exists('figures'))):\n",
    "    os.mkdir('figures')\n",
    "\n",
    "idx = pd.IndexSlice\n",
    "        \n",
    "def densityRatioInfluence_plot(case_path):\n",
    "    rcParams[\"figure.dpi\"] = 300\n",
    "    study_name = \"densityRatioInfluence.parameter\"\n",
    "    case_0_path = case_path + study_name.split('.')[0] + \"_00000_templateCase\"\n",
    "    density_ratio_agglom  = datglom.data_agglomerator(study_name,\n",
    "                                                  \"stationaryDropletResults.csv\",\n",
    "                                                  case_0_path) \n",
    " \n",
    "    density_ratio_df = density_ratio_agglom.study_dataframe() \n",
    "    \n",
    "\n",
    "    plotDict={\"x\" : \"time\", \"xsymb\" : r\"$t$\", \n",
    "          \"y\" : \"Linf velocity error\", \n",
    "          \"ysymb\" : r\"$L_\\infty(\\mathbf{v})$\",\n",
    "          \"resolution\" : r\"$N$\", \"rho_droplet\" : r\"$\\rho_1$\", \n",
    "          \"nu_droplet\" : r\"$\\nu_1$\"};\n",
    "    plot_dframe(density_ratio_df, density_ratio_agglom,case_path,study_name, \n",
    "            title=\"All density ratios\", \n",
    "            plotDict=plotDict, ncol=2)\n",
    "    return density_ratio_df"
   ]
  },
  {
   "cell_type": "code",
   "execution_count": null,
   "metadata": {
    "scrolled": false
   },
   "outputs": [],
   "source": [
    "df=densityRatioInfluence_plot(\"./\")"
   ]
  }
 ],
 "metadata": {
  "kernelspec": {
   "display_name": "Python 3",
   "language": "python",
   "name": "python3"
  },
  "language_info": {
   "codemirror_mode": {
    "name": "ipython",
    "version": 3
   },
   "file_extension": ".py",
   "mimetype": "text/x-python",
   "name": "python",
   "nbconvert_exporter": "python",
   "pygments_lexer": "ipython3",
   "version": "3.9.5"
  }
 },
 "nbformat": 4,
 "nbformat_minor": 2
}
