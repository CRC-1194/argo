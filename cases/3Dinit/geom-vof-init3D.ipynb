{
 "cells": [
  {
   "cell_type": "markdown",
   "metadata": {},
   "source": [
    "# Computing volume fractions by intersecting unstructured meshes\n",
    "\n",
    "## Research data\n",
    "\n",
    "### Source code \n",
    "\n",
    "[git repostitory](link)\n",
    "\n",
    "[git tag](link) \n",
    "\n",
    "[source code archive](link)\n",
    "\n",
    "### Article / report \n",
    "\n",
    "[DOI / arXivID](link)\n",
    "\n",
    "### Data \n",
    "\n",
    "[secondary data](link)\n",
    "\n",
    "[primary data](link)\n"
   ]
  },
  {
   "cell_type": "code",
   "execution_count": 1,
   "metadata": {},
   "outputs": [],
   "source": [
    "# Pick up .csv files \n",
    "import os\n",
    "import pandas as pd\n",
    "from math import pi\n",
    "from plot_study import *"
   ]
  },
  {
   "cell_type": "code",
   "execution_count": 2,
   "metadata": {},
   "outputs": [],
   "source": [
    "import warnings \n",
    "# Set the GEOM_VOF_INIT environmental variable to the folder where you want the data to be saved. \n",
    "data_dir = os.curdir\n",
    "try:\n",
    "    data_dir = os.environ[\"GEOM_VOF_INIT\"] \n",
    "except:\n",
    "    warnings.warn(\"No GEOM_VOF_INIT environmental variable set, storing data in the current working directory.\") "
   ]
  },
  {
   "cell_type": "markdown",
   "metadata": {},
   "source": [
    "## SMCI tests"
   ]
  },
  {
   "cell_type": "code",
   "execution_count": 11,
   "metadata": {},
   "outputs": [
    {
     "ename": "ValueError",
     "evalue": "No CSV files found, did the parameter variation run?",
     "output_type": "error",
     "traceback": [
      "\u001b[0;31m---------------------------------------------------------------------------\u001b[0m",
      "\u001b[0;31mValueError\u001b[0m                                Traceback (most recent call last)",
      "\u001b[0;32m<ipython-input-11-f81a7af36620>\u001b[0m in \u001b[0;36m<module>\u001b[0;34m\u001b[0m\n\u001b[1;32m      3\u001b[0m \u001b[0msphere_volume\u001b[0m \u001b[0;34m=\u001b[0m \u001b[0msphere_radius\u001b[0m\u001b[0;34m**\u001b[0m\u001b[0;36m3\u001b[0m \u001b[0;34m*\u001b[0m \u001b[0;36m4\u001b[0m \u001b[0;34m*\u001b[0m \u001b[0mpi\u001b[0m \u001b[0;34m/\u001b[0m \u001b[0;36m3.\u001b[0m\u001b[0;34m\u001b[0m\u001b[0;34m\u001b[0m\u001b[0m\n\u001b[1;32m      4\u001b[0m \u001b[0;34m\u001b[0m\u001b[0m\n\u001b[0;32m----> 5\u001b[0;31m \u001b[0msphere_data\u001b[0m \u001b[0;34m=\u001b[0m \u001b[0mplot_study\u001b[0m\u001b[0;34m(\u001b[0m\u001b[0;34m\"sphere\"\u001b[0m\u001b[0;34m,\u001b[0m \u001b[0malg_name\u001b[0m\u001b[0;34m=\u001b[0m\u001b[0;34m\"SMCI\"\u001b[0m\u001b[0;34m,\u001b[0m \u001b[0mexact_volume\u001b[0m\u001b[0;34m=\u001b[0m\u001b[0msphere_volume\u001b[0m\u001b[0;34m,\u001b[0m \u001b[0mdata_dir\u001b[0m\u001b[0;34m=\u001b[0m\u001b[0mdata_dir\u001b[0m\u001b[0;34m)\u001b[0m\u001b[0;34m\u001b[0m\u001b[0;34m\u001b[0m\u001b[0m\n\u001b[0m",
      "\u001b[0;32m~/Projects/research/openfoam/geom-vof-init/cases/3Dinit/plot_study.py\u001b[0m in \u001b[0;36mplot_study\u001b[0;34m(pattern, alg_name, exact_volume, data_dir, csv_file)\u001b[0m\n\u001b[1;32m     25\u001b[0m \u001b[0;34m\u001b[0m\u001b[0m\n\u001b[1;32m     26\u001b[0m     \u001b[0;32mif\u001b[0m \u001b[0;34m(\u001b[0m\u001b[0mlen\u001b[0m\u001b[0;34m(\u001b[0m\u001b[0mcsv_files\u001b[0m\u001b[0;34m)\u001b[0m \u001b[0;34m==\u001b[0m \u001b[0;36m0\u001b[0m\u001b[0;34m)\u001b[0m\u001b[0;34m:\u001b[0m\u001b[0;34m\u001b[0m\u001b[0;34m\u001b[0m\u001b[0m\n\u001b[0;32m---> 27\u001b[0;31m         \u001b[0;32mraise\u001b[0m \u001b[0mValueError\u001b[0m\u001b[0;34m(\u001b[0m\u001b[0;34m\"No CSV files found, did the parameter variation run?\"\u001b[0m\u001b[0;34m)\u001b[0m\u001b[0;34m\u001b[0m\u001b[0;34m\u001b[0m\u001b[0m\n\u001b[0m\u001b[1;32m     28\u001b[0m \u001b[0;34m\u001b[0m\u001b[0m\n\u001b[1;32m     29\u001b[0m     \u001b[0mdata\u001b[0m \u001b[0;34m=\u001b[0m \u001b[0mpd\u001b[0m\u001b[0;34m.\u001b[0m\u001b[0mconcat\u001b[0m\u001b[0;34m(\u001b[0m\u001b[0;34m(\u001b[0m\u001b[0mpd\u001b[0m\u001b[0;34m.\u001b[0m\u001b[0mread_csv\u001b[0m\u001b[0;34m(\u001b[0m\u001b[0mcsv_file\u001b[0m\u001b[0;34m)\u001b[0m \u001b[0;32mfor\u001b[0m \u001b[0mcsv_file\u001b[0m \u001b[0;32min\u001b[0m \u001b[0mcsv_files\u001b[0m\u001b[0;34m)\u001b[0m\u001b[0;34m)\u001b[0m\u001b[0;34m\u001b[0m\u001b[0;34m\u001b[0m\u001b[0m\n",
      "\u001b[0;31mValueError\u001b[0m: No CSV files found, did the parameter variation run?"
     ]
    }
   ],
   "source": [
    "# Exact volume of the sphere.  \n",
    "sphere_radius = 0.15 #  WARNING: Adapt this if another radius is chosen in templateCase/sphere.geo.template \n",
    "sphere_volume = sphere_radius**3 * 4 * pi / 3.\n",
    "\n",
    "# Exact volume of the ellipsoid.  \n",
    "a = 0.4 # WARNING: Adapt this if another value is chosen in templateCase/ellipsoid.geo.template \n",
    "b = 0.3 # WARNING: Adapt this if another value is chosen in templateCase/ellipsoid.geo.template \n",
    "c = 0.2 # WARNING: Adapt this if another value is chosen in templateCase/ellipsoid.geo.template \n",
    "ellipsoid_volume = 4 * a * b * c * pi / 3. \n",
    "\n",
    "\n",
    "for study_pattern in [\"sphere\", \"spherePerturbed\"] \n",
    "    data = plot_study(study_pattern, alg_name=\"SMCI\", exact_volume=sphere_volume, data_dir=data_dir)\n",
    "    \n",
    "for study_pattern in [\"ellipsoid\", \"ellipsoidPerturbed\"] \n",
    "    data = plot_study(study_pattern, alg_name=\"SMCI\", exact_volume=sphere_volume, data_dir=data_dir)\n"
   ]
  },
  {
   "cell_type": "markdown",
   "metadata": {},
   "source": [
    "#### SMCA"
   ]
  },
  {
   "cell_type": "code",
   "execution_count": 4,
   "metadata": {},
   "outputs": [],
   "source": [
    "#smca_sphere_data = plot_study(\"perturbed-sphere\", \"SMCA\", exact_volume=sphere_volume, data_dir=data_dir, csv_file=\"smcaVofInit.csv\")"
   ]
  }
 ],
 "metadata": {
  "kernelspec": {
   "display_name": "Python 3",
   "language": "python",
   "name": "python3"
  },
  "language_info": {
   "codemirror_mode": {
    "name": "ipython",
    "version": 3
   },
   "file_extension": ".py",
   "mimetype": "text/x-python",
   "name": "python",
   "nbconvert_exporter": "python",
   "pygments_lexer": "ipython3",
   "version": "3.8.6"
  }
 },
 "nbformat": 4,
 "nbformat_minor": 4
}
