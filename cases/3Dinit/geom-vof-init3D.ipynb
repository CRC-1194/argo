{
 "cells": [
  {
   "cell_type": "markdown",
   "metadata": {},
   "source": [
    "# Computing volume fractions by intersecting unstructured meshes\n",
    "\n",
    "## Research data\n",
    "\n",
    "### Source code \n",
    "\n",
    "[git repostitory](link)\n",
    "\n",
    "[git tag](link) \n",
    "\n",
    "[source code archive](link)\n",
    "\n",
    "### Article / report \n",
    "\n",
    "[DOI / arXivID](link)\n",
    "\n",
    "### Data \n",
    "\n",
    "[secondary data](link)\n",
    "\n",
    "[primary data](link)\n"
   ]
  },
  {
   "cell_type": "code",
   "execution_count": null,
   "metadata": {},
   "outputs": [],
   "source": [
    "# Pick up .csv files \n",
    "import os\n",
    "import pandas as pd\n",
    "from math import pi\n",
    "from plot_study import *"
   ]
  },
  {
   "cell_type": "code",
   "execution_count": null,
   "metadata": {},
   "outputs": [],
   "source": [
    "import warnings \n",
    "# Set the GEOM_VOF_INIT environmental variable to the folder where you want the data to be saved. \n",
    "data_dir = os.curdir\n",
    "try:\n",
    "    data_dir = os.environ[\"GEOM_VOF_INIT\"] \n",
    "except:\n",
    "    warnings.warn(\"No GEOM_VOF_INIT environmental variable set, storing data in the current working directory.\") "
   ]
  },
  {
   "cell_type": "markdown",
   "metadata": {},
   "source": [
    "## Exact volumes for sphere and ellipsoid\n",
    "**Warning**: The values in the cell below need to match those used in the parameter study."
   ]
  },
  {
   "cell_type": "code",
   "execution_count": null,
   "metadata": {},
   "outputs": [],
   "source": [
    "# Exact volume of the sphere.  \n",
    "sphere_radius = 0.15 #  WARNING: Adapt this if another radius is chosen in templateCase/sphere.geo.template \n",
    "sphere_volume = sphere_radius**3 * 4 * pi / 3.\n",
    "\n",
    "# Exact volume of the ellipsoid.  \n",
    "a = 0.4 # WARNING: Adapt this if another value is chosen in templateCase/ellipsoid.geo.template \n",
    "b = 0.3 # WARNING: Adapt this if another value is chosen in templateCase/ellipsoid.geo.template \n",
    "c = 0.2 # WARNING: Adapt this if another value is chosen in templateCase/ellipsoid.geo.template \n",
    "ellipsoid_volume = 4 * a * b * c * pi / 3. "
   ]
  },
  {
   "cell_type": "markdown",
   "metadata": {},
   "source": [
    "## SMCI tests"
   ]
  },
  {
   "cell_type": "code",
   "execution_count": null,
   "metadata": {},
   "outputs": [],
   "source": [
    "for study_pattern in [\"sphere\", \"spherePerturbed\"]:\n",
    "    data = plot_study(study_pattern, alg_name=\"SMCI\", exact_volume=sphere_volume, data_write_dir=data_dir)\n",
    "    \n",
    "for study_pattern in [\"ellipsoid\", \"ellipsoidPerturbed\"]:\n",
    "    data = plot_study(study_pattern, alg_name=\"SMCI\", exact_volume=ellipsoid_volume, data_write_dir=data_dir)"
   ]
  },
  {
   "cell_type": "markdown",
   "metadata": {},
   "source": [
    "## SMCA tests"
   ]
  },
  {
   "cell_type": "code",
   "execution_count": null,
   "metadata": {
    "scrolled": false
   },
   "outputs": [],
   "source": [
    "for study_pattern in [\"sphereCartesian\", \"spherePerturbed\"]:\n",
    "    data = plot_study(study_pattern, alg_name=\"SMCA\", exact_volume=sphere_volume, data_write_dir=data_dir, csv_file=\"smcaVofInit.csv\")\n",
    "    \n",
    "for study_pattern in [\"ellipsoidCartesian\", \"ellipsoidPerturbed\"]: \n",
    "    data = plot_study(study_pattern, alg_name=\"SMCA\", exact_volume=ellipsoid_volume, data_write_dir=data_dir, csv_file=\"smcaVofInit.csv\")\n",
    "\n",
    "plot_smca_refinement_convergence(\"smcaRefinementConvergence\", exact_volume=sphere_volume, data_write_dir=data_dir)"
   ]
  },
  {
   "cell_type": "code",
   "execution_count": null,
   "metadata": {},
   "outputs": [],
   "source": []
  }
 ],
 "metadata": {
  "kernelspec": {
   "display_name": "Python 3",
   "language": "python",
   "name": "python3"
  },
  "language_info": {
   "codemirror_mode": {
    "name": "ipython",
    "version": 3
   },
   "file_extension": ".py",
   "mimetype": "text/x-python",
   "name": "python",
   "nbconvert_exporter": "python",
   "pygments_lexer": "ipython3",
   "version": "3.9.0"
  }
 },
 "nbformat": 4,
 "nbformat_minor": 4
}
