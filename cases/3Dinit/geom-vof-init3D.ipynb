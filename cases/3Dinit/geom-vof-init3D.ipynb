{
 "cells": [
  {
   "cell_type": "markdown",
   "metadata": {},
   "source": [
    "# Computing volume fractions by intersecting unstructured meshes\n",
    "\n",
    "**Code used to generate the data**: \n",
    "\n",
    "**Article DOI**: \n",
    "\n",
    "**Research data archive**:\n",
    "\n",
    "## Surface-Mesh / Cell Intersection Algorithm\n",
    "\n",
    "**TODO**: Short description\n",
    "\n",
    "\n",
    "## Sphere Initialization"
   ]
  },
  {
   "cell_type": "code",
   "execution_count": null,
   "metadata": {
    "scrolled": false
   },
   "outputs": [],
   "source": [
    "# Pick up .csv files \n",
    "import os\n",
    "import pandas as pd\n",
    "from math import pi\n",
    "from plot_study import *"
   ]
  },
  {
   "cell_type": "code",
   "execution_count": null,
   "metadata": {},
   "outputs": [],
   "source": [
    "import warnings \n",
    "# Set the GEOM_VOF_INIT environmental variable to the folder where you want the data to be saved. \n",
    "data_dir = os.curdir\n",
    "try:\n",
    "    data_dir = os.environ[\"GEOM_VOF_INIT\"] \n",
    "except:\n",
    "    warnings.warn(\"No GEOM_VOF_INIT environmental variable set, storing data in the current working directory.\") "
   ]
  },
  {
   "cell_type": "code",
   "execution_count": null,
   "metadata": {},
   "outputs": [],
   "source": [
    "# Exact volume of the sphere.  \n",
    "sphere_radius = 0.15 # WARNING: Adapt this if another radius is chosen for the sphere in the study. \n",
    "sphere_volume = sphere_radius** 3 * 4 * pi / 3.\n",
    "\n",
    "plot_study(\"sphere\", \"blockMesh\", alg_name=\"SMCI\", exact_volume=sphere_volume, data_dir=data_dir)"
   ]
  },
  {
   "cell_type": "code",
   "execution_count": null,
   "metadata": {},
   "outputs": [],
   "source": [
    "plot_study(\"sphere\", \"blockMesh\", alg_name=\"POLY\", exact_volume=sphere_volume, data_dir=data_dir, csv_file=\"polynomialVofInitResults.csv\")"
   ]
  },
  {
   "cell_type": "code",
   "execution_count": null,
   "metadata": {},
   "outputs": [],
   "source": []
  }
 ],
 "metadata": {
  "kernelspec": {
   "display_name": "Python 3",
   "language": "python",
   "name": "python3"
  },
  "language_info": {
   "codemirror_mode": {
    "name": "ipython",
    "version": 3
   },
   "file_extension": ".py",
   "mimetype": "text/x-python",
   "name": "python",
   "nbconvert_exporter": "python",
   "pygments_lexer": "ipython3",
   "version": "3.8.2"
  }
 },
 "nbformat": 4,
 "nbformat_minor": 2
}
