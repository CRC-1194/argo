{
 "cells": [
  {
   "cell_type": "markdown",
   "metadata": {},
   "source": [
    "## Evaluation of volume fraction initialization using the SMCA algorithm\n",
    "**Note**: Corss-references and additional information are found in the notebook `smci-vof-init.ipynb`."
   ]
  },
  {
   "cell_type": "code",
   "execution_count": null,
   "metadata": {},
   "outputs": [],
   "source": [
    "import os\n",
    "import pandas as pd\n",
    "from math import pi\n",
    "from plot_study import *"
   ]
  },
  {
   "cell_type": "code",
   "execution_count": null,
   "metadata": {},
   "outputs": [],
   "source": [
    "import warnings \n",
    "# Set the GEOM_VOF_INIT environmental variable to the folder where you want the data to be saved. \n",
    "data_dir = os.curdir\n",
    "try:\n",
    "    data_dir = os.environ[\"GEOM_VOF_INIT\"] \n",
    "except:\n",
    "    warnings.warn(\"No GEOM_VOF_INIT environmental variable set, storing data in the current working directory.\") "
   ]
  },
  {
   "cell_type": "markdown",
   "metadata": {},
   "source": [
    "### References volumes of sphere and ellipsoid\n",
    "**Warning**: parameters here need to be changed if they are changed in the `geo`-files of the template case"
   ]
  },
  {
   "cell_type": "code",
   "execution_count": null,
   "metadata": {},
   "outputs": [],
   "source": [
    "# Exact volume of the sphere.  \n",
    "sphere_radius = 0.15 #  WARNING: Adapt this if another radius is chosen in templateCase/sphere.geo.template \n",
    "sphere_volume = sphere_radius**3 * 4 * pi / 3.\n",
    "\n",
    "# Exact volume of the ellipsoid.  \n",
    "a = 0.4 # WARNING: Adapt this if another value is chosen in templateCase/ellipsoid.geo.template \n",
    "b = 0.3 # WARNING: Adapt this if another value is chosen in templateCase/ellipsoid.geo.template \n",
    "c = 0.2 # WARNING: Adapt this if another value is chosen in templateCase/ellipsoid.geo.template \n",
    "ellipsoid_volume = 4 * a * b * c * pi / 3. "
   ]
  },
  {
   "cell_type": "markdown",
   "metadata": {},
   "source": [
    "### Evaluation"
   ]
  },
  {
   "cell_type": "code",
   "execution_count": null,
   "metadata": {
    "scrolled": false
   },
   "outputs": [],
   "source": [
    "plot_study(\"equidistant_sphere\", alg_name=\"SMCA\", exact_volume=sphere_volume, data_write_dir=data_dir, \\\n",
    "           csv_file=\"vof-init-results-SMCA.csv\")"
   ]
  },
  {
   "cell_type": "code",
   "execution_count": null,
   "metadata": {},
   "outputs": [],
   "source": [
    "plot_study(\"perturbed_alpha_0.25_sphere\", alg_name=\"SMCA\", exact_volume=sphere_volume, data_write_dir=data_dir, \\\n",
    "           csv_file=\"vof-init-results-SMCA.csv\")"
   ]
  },
  {
   "cell_type": "code",
   "execution_count": null,
   "metadata": {
    "scrolled": false
   },
   "outputs": [],
   "source": [
    "plot_study(\"equidistant_ellipsoid\", alg_name=\"SMCA\", exact_volume=ellipsoid_volume, data_write_dir=data_dir, \\\n",
    "           csv_file=\"vof-init-results-SMCA.csv\")"
   ]
  },
  {
   "cell_type": "code",
   "execution_count": null,
   "metadata": {
    "scrolled": false
   },
   "outputs": [],
   "source": [
    "plot_study(\"perturbed_alpha_0.25_ellipsoid\", alg_name=\"SMCA\", exact_volume=ellipsoid_volume, data_write_dir=data_dir, \\\n",
    "           csv_file=\"vof-init-results-SMCA.csv\")"
   ]
  },
  {
   "cell_type": "code",
   "execution_count": null,
   "metadata": {},
   "outputs": [],
   "source": [
    "plot_smca_refinement_convergence(\"refinement-equidistant_sphere\", exact_volume=sphere_volume, data_write_dir=data_dir)"
   ]
  },
  {
   "cell_type": "code",
   "execution_count": null,
   "metadata": {},
   "outputs": [],
   "source": [
    "plot_smca_refinement_convergence(\"refinement-perturbed_alpha_0.25_sphere\", exact_volume=sphere_volume, \\\n",
    "                                 data_write_dir=data_dir)"
   ]
  },
  {
   "cell_type": "code",
   "execution_count": null,
   "metadata": {},
   "outputs": [],
   "source": [
    "plot_smca_cad_refinement_convergence(\"vent-refinement\", data_write_dir=data_dir)"
   ]
  },
  {
   "cell_type": "markdown",
   "metadata": {},
   "source": [
    "### Evaluation: volume fractions from level set surfaces"
   ]
  },
  {
   "cell_type": "code",
   "execution_count": null,
   "metadata": {},
   "outputs": [],
   "source": [
    "plot_smca_levelset_convergence(\"vofImplicit\", exact_volume=ellipsoid_volume, data_write_dir=data_dir)"
   ]
  },
  {
   "cell_type": "code",
   "execution_count": null,
   "metadata": {},
   "outputs": [],
   "source": []
  }
 ],
 "metadata": {
  "kernelspec": {
   "display_name": "Python 3",
   "language": "python",
   "name": "python3"
  },
  "language_info": {
   "codemirror_mode": {
    "name": "ipython",
    "version": 3
   },
   "file_extension": ".py",
   "mimetype": "text/x-python",
   "name": "python",
   "nbconvert_exporter": "python",
   "pygments_lexer": "ipython3",
   "version": "3.9.3"
  }
 },
 "nbformat": 4,
 "nbformat_minor": 4
}
