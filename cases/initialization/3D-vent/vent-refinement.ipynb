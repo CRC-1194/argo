{
 "cells": [
  {
   "cell_type": "markdown",
   "id": "6367d8eb",
   "metadata": {},
   "source": [
    "# SMCA: convergence with respect to refinement level (vent surface)"
   ]
  },
  {
   "cell_type": "code",
   "execution_count": null,
   "id": "ca0c41ea",
   "metadata": {},
   "outputs": [],
   "source": [
    "import os\n",
    "import pandas as pd\n",
    "from math import pi\n",
    "import matplotlib.pyplot as plt\n",
    "from matplotlib import rcParams\n",
    "\n",
    "from plot_study import *\n",
    "\n",
    "rcParams[\"text.usetex\"] = True\n",
    "rcParams[\"figure.dpi\"] = 300 \n",
    "rcParams[\"font.size\"] = 9\n",
    "rcParams[\"axes.titlesize\"] = 9\n",
    "rcParams[\"axes.labelsize\"] = 9"
   ]
  },
  {
   "cell_type": "code",
   "execution_count": null,
   "id": "8997cd94",
   "metadata": {},
   "outputs": [],
   "source": [
    "import warnings \n",
    "# Set the SMCIA_VOF_INIT_RESULTS environmental variable to the folder where you want the data to be saved. \n",
    "data_dir = os.curdir\n",
    "try:\n",
    "    data_dir = os.environ[\"SMCIA_VOF_INIT_RESULTS\"] \n",
    "except:\n",
    "    warnings.warn(\"No SMCIA_VOF_INIT_RESULTS environmental variable set, storing data in the current working directory.\") "
   ]
  },
  {
   "cell_type": "markdown",
   "id": "5457e21c",
   "metadata": {},
   "source": [
    "### User input\n",
    "Set the name of the JSON file containing the data. Addionally, make sure to copy the Python file `plot_study.py` from `cases/initialization/3Dinit` to the location of this notebook."
   ]
  },
  {
   "cell_type": "code",
   "execution_count": null,
   "id": "32164502",
   "metadata": {},
   "outputs": [],
   "source": [
    "json_file_name = 'CPC2021-vent-refinement-SMCA.json'"
   ]
  },
  {
   "cell_type": "markdown",
   "id": "ddd5b237",
   "metadata": {},
   "source": [
    "---\n",
    "### Read data"
   ]
  },
  {
   "cell_type": "code",
   "execution_count": null,
   "id": "f2b9beb0",
   "metadata": {
    "scrolled": false
   },
   "outputs": [],
   "source": [
    "# Read dataframe and metadata\n",
    "df = pd.read_json(json_file_name, orient='table')\n",
    "\n",
    "# Try sorting index to avoid performance warnings according to\n",
    "# https://stackoverflow.com/questions/54307300/what-causes-indexing-past-lexsort-depth-warning-in-pandas\n",
    "df.sort_index(inplace=True)"
   ]
  },
  {
   "cell_type": "markdown",
   "id": "55c6c973",
   "metadata": {},
   "source": [
    "### Convergence with refinement level"
   ]
  },
  {
   "cell_type": "code",
   "execution_count": null,
   "id": "236b729f",
   "metadata": {
    "scrolled": false
   },
   "outputs": [],
   "source": [
    "fig, ax = plt.subplots()\n",
    "    \n",
    "ax.plot(df['MAX_REFINEMENT_LEVEL'], df['VOLUME_ERROR_FROM_SURFACE_INTEGRAL'],\n",
    "        marker='x', color='k', linewidth=0)\n",
    "        \n",
    "# Log scaling required for data:\n",
    "ax.semilogy()\n",
    "    \n",
    "# Show indicator for second order convergence\n",
    "add_convergence_order(ax, 2.0, xaxis='linear', xrelmin=0.22)\n",
    "    \n",
    "# Set appropriate axes labels\n",
    "ax.set_xticks([0, 1, 2, 3])\n",
    "ax.set_ylabel(\"$E_v$\")\n",
    "ax.set_xlabel(r\"$l_\\mathrm{max}$\")\n",
    "    \n",
    "# Show grid and legend\n",
    "ax.grid()\n",
    "    \n",
    "# Generate file name\n",
    "plot_file_name = json_file_name.split('.')[0] + \".pdf\"\n",
    "    \n",
    "# Save PDF\n",
    "fig.savefig(os.path.join(data_dir, plot_file_name),\n",
    "                bbox_inches='tight')"
   ]
  }
 ],
 "metadata": {
  "kernelspec": {
   "display_name": "Python 3 (ipykernel)",
   "language": "python",
   "name": "python3"
  },
  "language_info": {
   "codemirror_mode": {
    "name": "ipython",
    "version": 3
   },
   "file_extension": ".py",
   "mimetype": "text/x-python",
   "name": "python",
   "nbconvert_exporter": "python",
   "pygments_lexer": "ipython3",
   "version": "3.9.6"
  }
 },
 "nbformat": 4,
 "nbformat_minor": 5
}
