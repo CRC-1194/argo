{
 "cells": [
  {
   "cell_type": "code",
   "execution_count": null,
   "metadata": {
    "scrolled": true
   },
   "outputs": [],
   "source": [
    "%matplotlib inline\n",
    "#import matplotlib \n",
    "#matplotlib.use('Agg')\n",
    "import os\n",
    "import pandas as pd\n",
    "from math import sqrt, log \n",
    "from functools import reduce\n",
    "import numpy as np\n",
    "\n",
    "# Needed on the cluster.\n",
    "# matplotlib.use('Agg')\n",
    "import matplotlib.pyplot as plt \n",
    "from matplotlib import rcParams\n",
    "\n",
    "columnFormats = {\n",
    "    \"Ev\" : '{:,.2e}'.format,\n",
    "    \"Ax\" : '{:,.2f}'.format,\n",
    "    \"Nx\" : '{:,.1f}'.format,\n",
    "    \"Te\" : '{:,.2e}'.format,\n",
    "    \"Tr\" : '{:,.2e}'.format\n",
    "}\n",
    "\n",
    "rcParams[\"text.usetex\"] = True\n",
    "rcParams[\"figure.figsize\"] = (2.5, 2.5) \n",
    "rcParams[\"font.size\"] = 8 \n",
    "\n",
    "def intersection_dirs(intersectionType):\n",
    "    \"\"\"Return the list of OpenFOAM parameter study directory names for an intesection type.\"\"\"\n",
    "    return [x for x in os.listdir(os.curdir) if os.path.isdir(x) \n",
    "         and intersectionType in x and \"00\" in x] \n",
    "\n",
    "def agglomerate_data(intersectionType):\n",
    "    \"\"\"Agglomerates all the data frames from a parameter study into a single dataframe.\"\"\"\n",
    "    dirs = intersection_dirs(intersectionType)\n",
    "    dirs.sort()\n",
    "    \n",
    "    # Assumes the same number of iterations in the experiment: the index of every\n",
    "    # CSV file should therefore have the same length.\n",
    "    csvFileName = os.path.join(os.curdir, dirs[0], intersectionType + '.csv')\n",
    "    csvDf = pd.read_csv(csvFileName)\n",
    "    iterationList = list(csvDf.index)\n",
    "    clmns = csvDf.columns\n",
    "    \n",
    "\n",
    "    # Data frames picked up from CSV files stored in simulation directories.\n",
    "    dfs = []\n",
    "    # A list of mesh resolution numbers N, where N^2 is the number of base mesh cells in 2D\n",
    "    # and N^3 is the number of base mesh cells in 3D. Used for indexing specific cases. Nb \n",
    "    # stores the total number of cells used anyway.\n",
    "    resolutionList = []\n",
    "    for directory in dirs:  \n",
    "        csvFileName = os.path.join(os.curdir, directory, intersectionType + '.csv')\n",
    "        csvDf = pd.read_csv(csvFileName)\n",
    "        meshResolutionN = int(sqrt(csvDf[\"Nb\"].iloc[0]))\n",
    "        resolutionList.append(meshResolutionN)\n",
    "        dfs.append(csvDf)\n",
    "        \n",
    "    # Store all data in a df with a multidimensional index \n",
    "    mIndex = pd.MultiIndex.from_product([resolutionList, iterationList], \n",
    "                                        names=['N', 'iteration'])\n",
    "    \n",
    "    agglDf = pd.concat(dfs) \n",
    "    agglDf.index = mIndex\n",
    "    \n",
    "    return agglDf\n",
    "\n",
    "def box_plot_column(columnName, intersectionName, dFrame, xlabel, dim=2):\n",
    "    \"\"\"Plots a box plot of a column in a data frame against the mesh resolution number N.\"\"\"\n",
    "    resolutions = smciDf.index.levels[0]\n",
    "    dfCol= [dFrame.loc[i][columnName] for i in resolutions]\n",
    "    medianprops = dict(linewidth=0.5, color='k')\n",
    "    medianprops = dict(linestyle='-', linewidth=0.5, color='k')\n",
    "    plt.boxplot(dfCol, notch=True, medianprops=medianprops) \n",
    "    plt.xticks(np.arange(1, len(resolutions) + 1), \n",
    "               [\"$2^{%d}$\" % (int(log(i,2)) * dim)  for i in resolutions])\n",
    "    columnNameList = list(columnName)\n",
    "    plt.xlabel(xlabel)\n",
    "    plt.ylabel(\"$%s_%s$\" % (columnNameList[0], columnNameList[1]))\n",
    "    plt.title(\"%s \" % intersectionName) \n",
    "    pdfName = \"%s%s.pdf\" % (intersectionName, columnName)\n",
    "    plt.savefig(pdfName)\n",
    "    plt.savefig(os.path.join(os.environ[\"INIT_FIG_PATH\"], pdfName), bbox_inches='tight') \n",
    "    \n",
    "\n",
    "# TODO: reset once smci / ccmi algorithms work properly again\n",
    "#smciDf = agglomerate_data('smci')\n",
    "#ccmiDf = agglomerate_data('ccmi')\n",
    "smciDf = agglomerate_data('povof') # Use povof data as dummy so no errors are thrown\n",
    "ccmiDf = agglomerate_data('povof') # Use povof data as dummy so no errors are thrown\n",
    "povofDf = agglomerate_data('povof')\n",
    "\n",
    "resolutionLabel = \"$N_b$ number of bulk mesh cells.\"\n",
    "box_plot_column(\"Ev\", \"SMCI\", smciDf, xlabel=resolutionLabel)\n",
    "\n"
   ]
  },
  {
   "cell_type": "code",
   "execution_count": null,
   "metadata": {
    "scrolled": true
   },
   "outputs": [],
   "source": [
    "box_plot_column(\"Ev\", \"CCMI\", ccmiDf, xlabel=resolutionLabel)\n"
   ]
  },
  {
   "cell_type": "code",
   "execution_count": null,
   "metadata": {},
   "outputs": [],
   "source": [
    "box_plot_column(\"Ev\", \"POVOF\", povofDf, xlabel=resolutionLabel)"
   ]
  },
  {
   "cell_type": "code",
   "execution_count": null,
   "metadata": {},
   "outputs": [],
   "source": [
    "box_plot_column(\"Te\", \"SMCI\", smciDf, xlabel=resolutionLabel)"
   ]
  },
  {
   "cell_type": "code",
   "execution_count": null,
   "metadata": {},
   "outputs": [],
   "source": [
    "box_plot_column(\"Te\", \"CCMI\", ccmiDf, xlabel=resolutionLabel)"
   ]
  },
  {
   "cell_type": "code",
   "execution_count": null,
   "metadata": {},
   "outputs": [],
   "source": [
    "box_plot_column(\"Te\", \"POVOF\", povofDf, xlabel=resolutionLabel)"
   ]
  },
  {
   "cell_type": "code",
   "execution_count": null,
   "metadata": {},
   "outputs": [],
   "source": [
    "## Tabular data representation, loop over resolutions and average the dframe.\n",
    "def int_form(x):\n",
    "    return \"%d\" % round(x,1)\n",
    "\n",
    "def sci_form(x):\n",
    "    return \"%.2e\" % x\n",
    "\n",
    "def float_form(x):\n",
    "    return \"%.2f\" % x\n",
    "\n",
    "def fig_pathname(filename):\n",
    "    return os.path.join(os.environ[\"INIT_FIG_PATH\"], filename)\n",
    "\n",
    "def tab_pathname(filename):\n",
    "    return os.path.join(os.environ[\"INIT_TAB_PATH\"], filename)\n",
    "\n",
    "def mean_df(df, formatters):\n",
    "    \n",
    "    meanSeries = []\n",
    "    resolutions = df.index.levels[0]\n",
    "    for resolution in resolutions: \n",
    "        meanSeries.append(df.loc[resolution].mean())\n",
    "    \n",
    "    meanDf = pd.DataFrame(meanSeries, index=resolutions)\n",
    "\n",
    "    return meanDf\n",
    "\n",
    "smci_formatters =[int_form, int_form, sci_form, sci_form, sci_form, \n",
    "                  sci_form, int_form, int_form, int_form, int_form]\n",
    "\n",
    "smciMeanDf = mean_df(smciDf, smci_formatters)\n",
    "\n",
    "smciMeanDf.to_latex(buf=tab_pathname(\"SMCImean.tex\"),\n",
    "                    formatters=smci_formatters)\n"
   ]
  },
  {
   "cell_type": "code",
   "execution_count": null,
   "metadata": {},
   "outputs": [],
   "source": [
    "smciCorr = smciMeanDf.corr()\n",
    "smciCorr[\"Te\"].sort_values(ascending=False)"
   ]
  },
  {
   "cell_type": "code",
   "execution_count": null,
   "metadata": {},
   "outputs": [],
   "source": [
    "ccmi_formatters =[int_form, int_form, sci_form, sci_form, sci_form, \n",
    "                  int_form, int_form, int_form, int_form, int_form]\n",
    "\n",
    "ccmiMeanDf = mean_df(ccmiDf, ccmi_formatters)\n",
    "\n",
    "ccmiMeanDf.to_latex(buf=tab_pathname(\"CCMImean.tex\"), \n",
    "                    formatters=ccmi_formatters)"
   ]
  },
  {
   "cell_type": "code",
   "execution_count": null,
   "metadata": {},
   "outputs": [],
   "source": [
    "povof_formatters =[int_form, int_form, sci_form, sci_form, sci_form, \n",
    "                  int_form, int_form, int_form, int_form, int_form]\n",
    "\n",
    "povofMeanDf = mean_df(povofDf, povof_formatters)\n",
    "\n",
    "povofMeanDf.to_latex(buf=tab_pathname(\"POVOFmean.tex\"), \n",
    "                    formatters=povof_formatters)"
   ]
  },
  {
   "cell_type": "markdown",
   "metadata": {},
   "source": [
    "This plot shows that the both algorithms scale linear with respect to the size of the problem, that has been increased in term of the number of cells of the base mesh $N_b$. Since almost all of the computational time is spent in the intersection operations, this will determine the overall speed of execution. "
   ]
  },
  {
   "cell_type": "code",
   "execution_count": null,
   "metadata": {
    "scrolled": true
   },
   "outputs": [],
   "source": [
    "plt.plot(ccmiMeanDf[\"Nb\"], ccmiMeanDf[\"Te\"], label=\"$T_e$ CCMI\", \n",
    "         marker='o', markersize='4', color='k', ls=\":\", lw=0.5)\n",
    "\n",
    "plt.plot(smciMeanDf[\"Nb\"], smciMeanDf[\"Te\"], label=\"$T_e$ SMCI\", \n",
    "         marker='^', markersize='4', color='k', ls=\"--\", lw=0.5)\n",
    "\n",
    "# TODO: there is no Tx in the metrics written by the test application\n",
    "#plt.plot(smciMeanDf[\"Nb\"], smciMeanDf[\"Tx\"], label=\"$T_x$ SMCI\", \n",
    "#         marker='x', markersize='4', color='k', ls=\"--\", lw=0.5)\n",
    "\n",
    "locs = [2e05, 3e06, 4e06]\n",
    "labels = [\"$2\\cdot10^5$\", \"$3\\cdot10^6$\", \"$4\\cdot10^6$\"] \n",
    "plt.xticks(locs,labels)\n",
    "\n",
    "plt.xlabel(\"$N_b$ number of base mesh cells.\")\n",
    "plt.ylabel(\"$T_e$ in seconds\")\n",
    "plt.legend()\n",
    "plt.loglog()\n",
    "plt.savefig(fig_pathname(\"TeNbLogLog.pdf\"), bbox_inches=\"tight\")"
   ]
  },
  {
   "cell_type": "code",
   "execution_count": null,
   "metadata": {
    "scrolled": true
   },
   "outputs": [],
   "source": [
    "fig = plt.figure()\n",
    "\n",
    "fig = plt.figure()\n",
    "ax1 = fig.add_subplot(111)\n",
    "ax2 = ax1.twiny()\n",
    "\n",
    "lns1 = ax2.plot(ccmiMeanDf[\"Nx\"], ccmiMeanDf[\"Te\"], label=\"$T_e$ CCMI\", \n",
    "         marker='o', markersize='4', color='k', ls=\":\", lw=0.5)\n",
    "ax2.set_xlabel(\"$Nx$ number of intersections CCMI.\")\n",
    "         \n",
    "lns2 = ax1.plot(smciMeanDf[\"Nx\"], smciMeanDf[\"Te\"], label=\"$T_e$ SMCI\", \n",
    "         marker='^', markersize='4', color='k', ls=\"--\", lw=0.5)\n",
    "lns3 = ax1.plot(smciMeanDf[\"Nx\"], smciMeanDf[\"Tx\"], label=\"$T_x$ SMCI\", \n",
    "         marker='x', markersize='4', color='k', ls=\"--\", lw=0.5)\n",
    "\n",
    "ax1.set_xlabel(\"$Nx$ number of intersections SMCI.\")\n",
    "\n",
    "lns = lns1 + lns2 + lns3\n",
    "\n",
    "labs = [l.get_label() for l in lns]\n",
    "\n",
    "\n",
    "ax1.set_ylabel(\"$T_e$ in seconds\")\n",
    "ax1.legend(lns,labs, loc=\"upper left\")\n",
    "plt.savefig(fig_pathname(\"TeNx.pdf\"), bbox_inches=\"tight\")"
   ]
  },
  {
   "cell_type": "code",
   "execution_count": null,
   "metadata": {},
   "outputs": [],
   "source": [
    "plt.plot(ccmiMeanDf[\"Nb\"], ccmiMeanDf[\"Te\"] / smciMeanDf[\"Te\"],\n",
    "         marker='o', markersize='4', color='k', ls=\":\", lw=0.5)\n",
    "plt.grid()\n",
    "locsy, labelsy = plt.yticks()\n",
    "locs, labels = plt.xticks()\n",
    "#locs = [1e02, 1e04, 1e06, 2e06, 4e06]\n",
    "#labels = [\"%1e\" % i for i in locs if i > 0]\n",
    "plt.xticks(locs,labels)\n",
    "plt.semilogx()\n",
    "plt.xlabel(\"$N_b$ number of base mesh cells.\")\n",
    "plt.ylabel(\"$T_e$ ratio CCMI / SMCI.\")\n",
    "plt.savefig(fig_pathname(\"TeRatioNb.pdf\"), bbox_inches=\"tight\")"
   ]
  },
  {
   "cell_type": "code",
   "execution_count": null,
   "metadata": {},
   "outputs": [],
   "source": [
    "fig = plt.figure()\n",
    "\n",
    "fig = plt.figure()\n",
    "ax1 = fig.add_subplot(111)\n",
    "#ax2 = ax1.twinx()\n",
    "    \n",
    "ax1.plot(ccmiMeanDf[\"Nb\"], ccmiMeanDf[\"Nx\"], label=\"$N_x$ CCMI\", \n",
    "         lw=0.5, marker='o', markersize=4, color='k')\n",
    "ax1.plot(smciMeanDf[\"Nb\"], smciMeanDf[\"Nx\"], label=\"$N_x$ SMCI\", \n",
    "         lw=0.5, marker='^', markersize=4, color='k')\n",
    "ax1.set_xlabel(\"$N_b$ number of base mesh cells.\")\n",
    "ax1.set_ylabel(\"$N_x$ number intersections SMCI.\")\n",
    "#ax1.set_ylabel(\"$N_x$ number intersections CCMI.\")\n",
    "ax1.legend(loc=\"upper center\")\n",
    "#ax2.legend(loc=\"lower right\")\n",
    "plt.savefig(fig_pathname(\"NxNb.pdf\"), bbox_inches=\"tight\")"
   ]
  },
  {
   "cell_type": "code",
   "execution_count": null,
   "metadata": {},
   "outputs": [],
   "source": [
    "fig = plt.figure()\n",
    "\n",
    "fig = plt.figure()\n",
    "ax1 = fig.add_subplot(111)\n",
    "\n",
    "ccmiMeanDfFirst = ccmiMeanDf.head(6)\n",
    "smciMeanDfFirst = smciMeanDf.head(6)\n",
    "\n",
    "ax1.plot(ccmiMeanDfFirst[\"Nb\"], ccmiMeanDfFirst[\"Nx\"], label=\"$N_x$ CCMI\", \n",
    "         lw=0.5, marker='o', markersize=4, color='k')\n",
    "\n",
    "ax1.plot(smciMeanDfFirst[\"Nb\"], smciMeanDfFirst[\"Nx\"], label=\"$N_x$ SMCI\", \n",
    "         lw=0.5, marker='^', markersize=4, color='k')\n",
    "\n",
    "ax1.set_xlabel(\"$N_b$ number of base mesh cells.\")\n",
    "ax1.set_ylabel(\"$N_x$ number intersections SMCI.\")\n",
    "\n",
    "#ax1.set_ylabel(\"$N_x$ number intersections CCMI.\")\n",
    "ax1.legend(loc=\"upper center\")\n",
    "#ax2.legend(loc=\"lower right\")\n",
    "#ax1.semilogy()\n",
    "plt.savefig(fig_pathname(\"NxNb.pdf\"), bbox_inches=\"tight\")"
   ]
  },
  {
   "cell_type": "code",
   "execution_count": null,
   "metadata": {},
   "outputs": [],
   "source": []
  }
 ],
 "metadata": {
  "kernelspec": {
   "display_name": "Python 3",
   "language": "python",
   "name": "python3"
  },
  "language_info": {
   "codemirror_mode": {
    "name": "ipython",
    "version": 3
   },
   "file_extension": ".py",
   "mimetype": "text/x-python",
   "name": "python",
   "nbconvert_exporter": "python",
   "pygments_lexer": "ipython3",
   "version": "3.7.4"
  }
 },
 "nbformat": 4,
 "nbformat_minor": 2
}
