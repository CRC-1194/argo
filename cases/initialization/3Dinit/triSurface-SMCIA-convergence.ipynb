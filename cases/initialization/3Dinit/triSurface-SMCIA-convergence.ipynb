{
 "cells": [
  {
   "cell_type": "markdown",
   "id": "6367d8eb",
   "metadata": {},
   "source": [
    "# SMCI/A: convergence with respect to surface resolution and computational times"
   ]
  },
  {
   "cell_type": "code",
   "execution_count": null,
   "id": "ca0c41ea",
   "metadata": {},
   "outputs": [],
   "source": [
    "import os\n",
    "import pandas as pd\n",
    "from math import pi\n",
    "import matplotlib.pyplot as plt\n",
    "from matplotlib import rcParams\n",
    "from itertools import cycle\n",
    "\n",
    "from plot_study import *\n",
    "\n",
    "rcParams[\"text.usetex\"] = True\n",
    "rcParams[\"figure.dpi\"] = 300 \n",
    "rcParams[\"font.size\"] = 9\n",
    "rcParams[\"axes.titlesize\"] = 9\n",
    "rcParams[\"axes.labelsize\"] = 9\n",
    "global_markers = ['o', 'x', '^', 'v', 'd']"
   ]
  },
  {
   "cell_type": "code",
   "execution_count": null,
   "id": "8997cd94",
   "metadata": {},
   "outputs": [],
   "source": [
    "import warnings \n",
    "# Set the SMCIA_VOF_INIT_RESULTS environmental variable to the folder where you want the data to be saved. \n",
    "data_dir = os.curdir\n",
    "try:\n",
    "    data_dir = os.environ[\"SMCIA_VOF_INIT_RESULTS\"] \n",
    "except:\n",
    "    warnings.warn(\"No SMCIA_VOF_INIT_RESULTS environmental variable set, storing data in the current working directory.\") "
   ]
  },
  {
   "cell_type": "markdown",
   "id": "5457e21c",
   "metadata": {},
   "source": [
    "### User input\n",
    "Set the algorithm name (_SMCI_ or _SMCA_), the JSON file name and geometric parameters of the tested interfaces. The algorithm is necessary for an unambiguous naming of the saved plots.  \n",
    "`group_by_params` determines how data is grouped to create subsets which are added to a single plot."
   ]
  },
  {
   "cell_type": "code",
   "execution_count": null,
   "id": "32164502",
   "metadata": {},
   "outputs": [],
   "source": [
    "algorithm = ''\n",
    "\n",
    "# Allows the GitLab CI pipeline to select the algorithm\n",
    "if not algorithm:\n",
    "    algorithm = os.environ['VOF_INIT_ALGORITHM']\n",
    "\n",
    "json_file_name = 'CPC2021-convergence-' + algorithm + '.json'\n",
    "group_by_params = ['SURFACE', 'MESH_PERTURBATION']\n",
    "\n",
    "# Sphere parameters\n",
    "sphere_radius = 0.15 #  WARNING: Adapt this if another radius is chosen in templateCase/sphere.geo.template \n",
    "\n",
    "# Ellipsoid parameters\n",
    "a = 0.4 # WARNING: Adapt this if another value is chosen in templateCase/ellipsoid.geo.template \n",
    "b = 0.3 # WARNING: Adapt this if another value is chosen in templateCase/ellipsoid.geo.template \n",
    "c = 0.2 # WARNING: Adapt this if another value is chosen in templateCase/ellipsoid.geo.template "
   ]
  },
  {
   "cell_type": "markdown",
   "id": "ddd5b237",
   "metadata": {},
   "source": [
    "---\n",
    "### Read data"
   ]
  },
  {
   "cell_type": "code",
   "execution_count": null,
   "id": "f2b9beb0",
   "metadata": {
    "scrolled": false
   },
   "outputs": [],
   "source": [
    "# Read dataframe and metadata\n",
    "df = pd.read_json(json_file_name, orient='table')\n",
    "\n",
    "# Try sorting index to avoid performance warnings according to\n",
    "# https://stackoverflow.com/questions/54307300/what-causes-indexing-past-lexsort-depth-warning-in-pandas\n",
    "df.sort_index(inplace=True)"
   ]
  },
  {
   "cell_type": "markdown",
   "id": "719a76d5",
   "metadata": {},
   "source": [
    "### Compute analytic volumes and relative volume errors"
   ]
  },
  {
   "cell_type": "code",
   "execution_count": null,
   "id": "f2a6163f",
   "metadata": {},
   "outputs": [],
   "source": [
    "# Exact volume of the sphere.  \n",
    "sphere_volume = sphere_radius**3 * 4 * pi / 3.\n",
    "\n",
    "# Exact volume of the ellipsoid.  \n",
    "ellipsoid_volume = 4 * a * b * c * pi / 3. \n",
    "\n",
    "# Compute volume errors with respect to exact volume\n",
    "df['EXACT_VOLUME'] = sphere_volume\n",
    "df.loc[(-1.0, 'triSurface', -1, 'ellipsoid', ), 'EXACT_VOLUME'] = ellipsoid_volume\n",
    "df['VOLUME_ERROR_FROM_EXACT_VOLUME'] = ((df['VOLUME_FROM_VOLUME_FRACTION'] - df['EXACT_VOLUME'])/df['EXACT_VOLUME']).abs()"
   ]
  },
  {
   "cell_type": "markdown",
   "id": "55c6c973",
   "metadata": {},
   "source": [
    "### Convergence with surface mesh resolution"
   ]
  },
  {
   "cell_type": "code",
   "execution_count": null,
   "id": "236b729f",
   "metadata": {
    "scrolled": false
   },
   "outputs": [],
   "source": [
    "for params, subsetdf in df.groupby(level=group_by_params):\n",
    "    fig, ax = plt.subplots()\n",
    "    markers = cycle(global_markers)\n",
    "    \n",
    "    for n_cells, plotdf in subsetdf.groupby(level='N_CELLS_PER_DIM'):\n",
    "        ax.plot(plotdf['N_TRIANGLES']**(1/2), plotdf['VOLUME_ERROR_FROM_EXACT_VOLUME'],\n",
    "                label=\"$N_c = %s$\" % n_cells, marker=next(markers))\n",
    "        \n",
    "    # Log scaling required for data:\n",
    "    ax.loglog()\n",
    "    \n",
    "    # Show indicator for second order convergence\n",
    "    add_convergence_order(ax, 2.0, xrelmin=0.22)\n",
    "    \n",
    "    # Set appropriate axes labels\n",
    "    ax.set_ylabel(\"$E_v$\")\n",
    "    ax.set_xlabel(\"$\\sqrt{N_T}$\")\n",
    "    \n",
    "    # Show grid and legend\n",
    "    ax.legend()\n",
    "    ax.grid()\n",
    "    \n",
    "    # Generate file name\n",
    "    plot_file_name = json_file_name.split('.')[0] + \"-meshConvergence-\" + algorithm + \"-\"\n",
    "    for param, value in zip(group_by_params, params):\n",
    "        plot_file_name = plot_file_name + param + str(value)\n",
    "    plot_file_name = plot_file_name.replace('_', '-') + '.pdf'\n",
    "    \n",
    "    # Save PDF\n",
    "    fig.savefig(os.path.join(data_dir, plot_file_name),\n",
    "                    bbox_inches='tight')\n",
    "\n",
    "    # Show the parameter values in the title:\n",
    "    title = \"Algorithm: \" + algorithm + \"\\n\"\n",
    "    for param, value in zip(group_by_params, params):\n",
    "        title = title + param.replace('_', ' ') + \": \" + str(value) + \"\\n\"\n",
    "    ax.set_title(title)"
   ]
  },
  {
   "cell_type": "markdown",
   "id": "e26670db",
   "metadata": {},
   "source": [
    "### Computation times"
   ]
  },
  {
   "cell_type": "code",
   "execution_count": null,
   "id": "0a9e28a5",
   "metadata": {
    "scrolled": false
   },
   "outputs": [],
   "source": [
    "for params, subsetdf in df.groupby(level=group_by_params):\n",
    "    fig, ax = plt.subplots()\n",
    "    markers = cycle(global_markers)\n",
    "    \n",
    "    for n_cells, plotdf in subsetdf.groupby(level='N_CELLS_PER_DIM'):\n",
    "        ax.plot(plotdf['N_TRIANGLES']**(1/2), plotdf['CPU_TIME_MICROSECONDS']/1e6,\n",
    "                label=\"$N_c = %s$\" % n_cells, marker=next(markers))\n",
    "    \n",
    "    # Set appropriate axes labels\n",
    "    ax.set_ylabel(\"CPU time in seconds\")\n",
    "    ax.set_xlabel(\"$\\sqrt{N_T}$\")\n",
    "    \n",
    "    # Show grid and legend\n",
    "    ax.legend()\n",
    "    ax.grid()\n",
    "    \n",
    "    # Generate file name\n",
    "    plot_file_name = json_file_name.split('.')[0] + \"-CPUtimes-\" + algorithm + \"-\"\n",
    "    for param, value in zip(group_by_params, params):\n",
    "        plot_file_name = plot_file_name + param + str(value)\n",
    "    plot_file_name = plot_file_name.replace('_', '-') + '.pdf'\n",
    "    \n",
    "    # Save PDF\n",
    "    fig.savefig(os.path.join(data_dir, plot_file_name),\n",
    "                    bbox_inches='tight')\n",
    "\n",
    "    # Show the parameter values in the title:\n",
    "    title = \"Algorithm: \" + algorithm + \"\\n\"\n",
    "    for param, value in zip(group_by_params, params):\n",
    "        title = title + param.replace('_', ' ') + \": \" + str(value) + \"\\n\"\n",
    "    ax.set_title(title)"
   ]
  }
 ],
 "metadata": {
  "kernelspec": {
   "display_name": "Python 3 (ipykernel)",
   "language": "python",
   "name": "python3"
  },
  "language_info": {
   "codemirror_mode": {
    "name": "ipython",
    "version": 3
   },
   "file_extension": ".py",
   "mimetype": "text/x-python",
   "name": "python",
   "nbconvert_exporter": "python",
   "pygments_lexer": "ipython3",
   "version": "3.9.6"
  }
 },
 "nbformat": 4,
 "nbformat_minor": 5
}
